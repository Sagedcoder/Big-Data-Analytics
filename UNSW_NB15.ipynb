{
  "nbformat": 4,
  "nbformat_minor": 0,
  "metadata": {
    "colab": {
      "name": "UNSW-NB15.ipynb",
      "provenance": [],
      "collapsed_sections": [
        "_vKNPXfIvdvn",
        "8dZoLnkhxxN8",
        "GyzB9kNAv49c",
        "ES1MmEJ1BaTg"
      ]
    },
    "kernelspec": {
      "name": "python3",
      "display_name": "Python 3"
    },
    "language_info": {
      "name": "python"
    }
  },
  "cells": [
    {
      "cell_type": "code",
      "metadata": {
        "colab": {
          "base_uri": "https://localhost:8080/"
        },
        "id": "L3TqIpTPURXT",
        "outputId": "3f18810b-8ceb-4826-bdc2-38220a7eca31"
      },
      "source": [
        "from google.colab import drive\n",
        "drive.mount('/content/drive')"
      ],
      "execution_count": 2,
      "outputs": [
        {
          "output_type": "stream",
          "name": "stdout",
          "text": [
            "Mounted at /content/drive\n"
          ]
        }
      ]
    },
    {
      "cell_type": "code",
      "metadata": {
        "colab": {
          "base_uri": "https://localhost:8080/"
        },
        "id": "oNZT5X57WS4k",
        "outputId": "e16b2abe-862c-49ee-81ec-c59f4a496abe"
      },
      "source": [
        "!pip install pyarrow"
      ],
      "execution_count": 3,
      "outputs": [
        {
          "output_type": "stream",
          "name": "stdout",
          "text": [
            "Requirement already satisfied: pyarrow in /usr/local/lib/python3.7/dist-packages (3.0.0)\n",
            "Requirement already satisfied: numpy>=1.16.6 in /usr/local/lib/python3.7/dist-packages (from pyarrow) (1.19.5)\n"
          ]
        }
      ]
    },
    {
      "cell_type": "markdown",
      "metadata": {
        "id": "p0-YhEpP_Ds-"
      },
      "source": [
        "### Setup"
      ]
    },
    {
      "cell_type": "markdown",
      "metadata": {
        "id": "Zsj5WYpR9QId"
      },
      "source": [
        "Let's setup Spark on your Colab environment.  Run the cell below!"
      ]
    },
    {
      "cell_type": "code",
      "metadata": {
        "colab": {
          "base_uri": "https://localhost:8080/"
        },
        "id": "q6UrDIgPdahK",
        "outputId": "5a355f72-cfae-43df-9f33-a60f8fcbe86b"
      },
      "source": [
        "!apt update"
      ],
      "execution_count": 4,
      "outputs": [
        {
          "output_type": "stream",
          "name": "stdout",
          "text": [
            "\u001b[33m\r0% [Working]\u001b[0m\r            \rGet:1 https://cloud.r-project.org/bin/linux/ubuntu bionic-cran40/ InRelease [3,626 B]\n",
            "Ign:2 https://developer.download.nvidia.com/compute/cuda/repos/ubuntu1804/x86_64  InRelease\n",
            "Ign:3 https://developer.download.nvidia.com/compute/machine-learning/repos/ubuntu1804/x86_64  InRelease\n",
            "Get:4 https://developer.download.nvidia.com/compute/cuda/repos/ubuntu1804/x86_64  Release [696 B]\n",
            "Hit:5 https://developer.download.nvidia.com/compute/machine-learning/repos/ubuntu1804/x86_64  Release\n",
            "Get:6 https://developer.download.nvidia.com/compute/cuda/repos/ubuntu1804/x86_64  Release.gpg [836 B]\n",
            "Get:7 http://ppa.launchpad.net/c2d4u.team/c2d4u4.0+/ubuntu bionic InRelease [15.9 kB]\n",
            "Get:8 http://security.ubuntu.com/ubuntu bionic-security InRelease [88.7 kB]\n",
            "Hit:9 http://archive.ubuntu.com/ubuntu bionic InRelease\n",
            "Get:10 http://archive.ubuntu.com/ubuntu bionic-updates InRelease [88.7 kB]\n",
            "Get:11 https://cloud.r-project.org/bin/linux/ubuntu bionic-cran40/ Packages [73.9 kB]\n",
            "Hit:12 http://ppa.launchpad.net/cran/libgit2/ubuntu bionic InRelease\n",
            "Get:14 https://developer.download.nvidia.com/compute/cuda/repos/ubuntu1804/x86_64  Packages [833 kB]\n",
            "Get:15 http://ppa.launchpad.net/deadsnakes/ppa/ubuntu bionic InRelease [15.9 kB]\n",
            "Get:16 http://archive.ubuntu.com/ubuntu bionic-backports InRelease [74.6 kB]\n",
            "Hit:17 http://ppa.launchpad.net/graphics-drivers/ppa/ubuntu bionic InRelease\n",
            "Get:18 http://ppa.launchpad.net/c2d4u.team/c2d4u4.0+/ubuntu bionic/main Sources [1,820 kB]\n",
            "Get:19 http://security.ubuntu.com/ubuntu bionic-security/universe amd64 Packages [1,452 kB]\n",
            "Get:20 http://security.ubuntu.com/ubuntu bionic-security/main amd64 Packages [2,461 kB]\n",
            "Get:21 http://archive.ubuntu.com/ubuntu bionic-updates/main amd64 Packages [2,898 kB]\n",
            "Get:22 http://security.ubuntu.com/ubuntu bionic-security/restricted amd64 Packages [691 kB]\n",
            "Get:23 http://ppa.launchpad.net/c2d4u.team/c2d4u4.0+/ubuntu bionic/main amd64 Packages [933 kB]\n",
            "Get:24 http://archive.ubuntu.com/ubuntu bionic-updates/universe amd64 Packages [2,230 kB]\n",
            "Get:25 http://archive.ubuntu.com/ubuntu bionic-backports/main amd64 Packages [11.6 kB]\n",
            "Get:26 http://archive.ubuntu.com/ubuntu bionic-backports/universe amd64 Packages [12.6 kB]\n",
            "Get:27 http://ppa.launchpad.net/deadsnakes/ppa/ubuntu bionic/main amd64 Packages [45.9 kB]\n",
            "Fetched 13.8 MB in 4s (3,228 kB/s)\n",
            "Reading package lists... Done\n",
            "Building dependency tree       \n",
            "Reading state information... Done\n",
            "79 packages can be upgraded. Run 'apt list --upgradable' to see them.\n"
          ]
        }
      ]
    },
    {
      "cell_type": "code",
      "metadata": {
        "colab": {
          "base_uri": "https://localhost:8080/"
        },
        "id": "XgegOnTSdNGj",
        "outputId": "2b53a00b-cc5f-45cd-e6dc-caf0b052dce1"
      },
      "source": [
        "!apt-get install openjdk-8-jdk-headless "
      ],
      "execution_count": 5,
      "outputs": [
        {
          "output_type": "stream",
          "name": "stdout",
          "text": [
            "Reading package lists... Done\n",
            "Building dependency tree       \n",
            "Reading state information... Done\n",
            "The following additional packages will be installed:\n",
            "  openjdk-8-jre-headless\n",
            "Suggested packages:\n",
            "  openjdk-8-demo openjdk-8-source libnss-mdns fonts-dejavu-extra\n",
            "  fonts-ipafont-gothic fonts-ipafont-mincho fonts-wqy-microhei\n",
            "  fonts-wqy-zenhei fonts-indic\n",
            "The following NEW packages will be installed:\n",
            "  openjdk-8-jdk-headless openjdk-8-jre-headless\n",
            "0 upgraded, 2 newly installed, 0 to remove and 79 not upgraded.\n",
            "Need to get 36.5 MB of archives.\n",
            "After this operation, 143 MB of additional disk space will be used.\n",
            "Get:1 http://archive.ubuntu.com/ubuntu bionic-updates/universe amd64 openjdk-8-jre-headless amd64 8u312-b07-0ubuntu1~18.04 [28.2 MB]\n",
            "Get:2 http://archive.ubuntu.com/ubuntu bionic-updates/universe amd64 openjdk-8-jdk-headless amd64 8u312-b07-0ubuntu1~18.04 [8,298 kB]\n",
            "Fetched 36.5 MB in 3s (11.4 MB/s)\n",
            "Selecting previously unselected package openjdk-8-jre-headless:amd64.\n",
            "(Reading database ... 155222 files and directories currently installed.)\n",
            "Preparing to unpack .../openjdk-8-jre-headless_8u312-b07-0ubuntu1~18.04_amd64.deb ...\n",
            "Unpacking openjdk-8-jre-headless:amd64 (8u312-b07-0ubuntu1~18.04) ...\n",
            "Selecting previously unselected package openjdk-8-jdk-headless:amd64.\n",
            "Preparing to unpack .../openjdk-8-jdk-headless_8u312-b07-0ubuntu1~18.04_amd64.deb ...\n",
            "Unpacking openjdk-8-jdk-headless:amd64 (8u312-b07-0ubuntu1~18.04) ...\n",
            "Setting up openjdk-8-jre-headless:amd64 (8u312-b07-0ubuntu1~18.04) ...\n",
            "update-alternatives: using /usr/lib/jvm/java-8-openjdk-amd64/jre/bin/orbd to provide /usr/bin/orbd (orbd) in auto mode\n",
            "update-alternatives: using /usr/lib/jvm/java-8-openjdk-amd64/jre/bin/servertool to provide /usr/bin/servertool (servertool) in auto mode\n",
            "update-alternatives: using /usr/lib/jvm/java-8-openjdk-amd64/jre/bin/tnameserv to provide /usr/bin/tnameserv (tnameserv) in auto mode\n",
            "Setting up openjdk-8-jdk-headless:amd64 (8u312-b07-0ubuntu1~18.04) ...\n",
            "update-alternatives: using /usr/lib/jvm/java-8-openjdk-amd64/bin/idlj to provide /usr/bin/idlj (idlj) in auto mode\n",
            "update-alternatives: using /usr/lib/jvm/java-8-openjdk-amd64/bin/wsimport to provide /usr/bin/wsimport (wsimport) in auto mode\n",
            "update-alternatives: using /usr/lib/jvm/java-8-openjdk-amd64/bin/jsadebugd to provide /usr/bin/jsadebugd (jsadebugd) in auto mode\n",
            "update-alternatives: using /usr/lib/jvm/java-8-openjdk-amd64/bin/native2ascii to provide /usr/bin/native2ascii (native2ascii) in auto mode\n",
            "update-alternatives: using /usr/lib/jvm/java-8-openjdk-amd64/bin/javah to provide /usr/bin/javah (javah) in auto mode\n",
            "update-alternatives: using /usr/lib/jvm/java-8-openjdk-amd64/bin/hsdb to provide /usr/bin/hsdb (hsdb) in auto mode\n",
            "update-alternatives: using /usr/lib/jvm/java-8-openjdk-amd64/bin/clhsdb to provide /usr/bin/clhsdb (clhsdb) in auto mode\n",
            "update-alternatives: using /usr/lib/jvm/java-8-openjdk-amd64/bin/xjc to provide /usr/bin/xjc (xjc) in auto mode\n",
            "update-alternatives: using /usr/lib/jvm/java-8-openjdk-amd64/bin/schemagen to provide /usr/bin/schemagen (schemagen) in auto mode\n",
            "update-alternatives: using /usr/lib/jvm/java-8-openjdk-amd64/bin/extcheck to provide /usr/bin/extcheck (extcheck) in auto mode\n",
            "update-alternatives: using /usr/lib/jvm/java-8-openjdk-amd64/bin/jhat to provide /usr/bin/jhat (jhat) in auto mode\n",
            "update-alternatives: using /usr/lib/jvm/java-8-openjdk-amd64/bin/wsgen to provide /usr/bin/wsgen (wsgen) in auto mode\n"
          ]
        }
      ]
    },
    {
      "cell_type": "code",
      "metadata": {
        "id": "8JPUlXcEdmYa"
      },
      "source": [
        "import os\n",
        "os.environ[\"JAVA_HOME\"] = \"/usr/lib/jvm/java-8-openjdk-amd64\""
      ],
      "execution_count": 6,
      "outputs": []
    },
    {
      "cell_type": "code",
      "metadata": {
        "colab": {
          "base_uri": "https://localhost:8080/"
        },
        "id": "k-qHai2252mI",
        "outputId": "d160e57a-00dd-4234-a029-f976af87d4c9"
      },
      "source": [
        "!pip install pyspark\n",
        "!pip install -U -q PyDrive"
      ],
      "execution_count": 7,
      "outputs": [
        {
          "output_type": "stream",
          "name": "stdout",
          "text": [
            "Collecting pyspark\n",
            "  Downloading pyspark-3.2.0.tar.gz (281.3 MB)\n",
            "\u001b[K     |████████████████████████████████| 281.3 MB 36 kB/s \n",
            "\u001b[?25hCollecting py4j==0.10.9.2\n",
            "  Downloading py4j-0.10.9.2-py2.py3-none-any.whl (198 kB)\n",
            "\u001b[K     |████████████████████████████████| 198 kB 52.1 MB/s \n",
            "\u001b[?25hBuilding wheels for collected packages: pyspark\n",
            "  Building wheel for pyspark (setup.py) ... \u001b[?25l\u001b[?25hdone\n",
            "  Created wheel for pyspark: filename=pyspark-3.2.0-py2.py3-none-any.whl size=281805912 sha256=14c617fbd33a5bc54aaae68c3e5323949325d0188bd60fa2c4c65dafb2b5003b\n",
            "  Stored in directory: /root/.cache/pip/wheels/0b/de/d2/9be5d59d7331c6c2a7c1b6d1a4f463ce107332b1ecd4e80718\n",
            "Successfully built pyspark\n",
            "Installing collected packages: py4j, pyspark\n",
            "Successfully installed py4j-0.10.9.2 pyspark-3.2.0\n"
          ]
        }
      ]
    },
    {
      "cell_type": "markdown",
      "metadata": {
        "id": "-CJ71AKe91eh"
      },
      "source": [
        "Now we authenticate a Google Drive client to download the file we will be processing in our Spark job.\n",
        "\n",
        "**Make sure to follow the interactive instructions.**"
      ]
    },
    {
      "cell_type": "code",
      "metadata": {
        "id": "twk-K-jilWK7"
      },
      "source": [
        "import pandas as pd\n",
        "import numpy as np\n",
        "import matplotlib.pyplot as plt\n",
        "%matplotlib inline\n",
        "\n",
        "import pyspark\n",
        "from pyspark.sql import *\n",
        "from pyspark.sql.functions import *\n",
        "from pyspark import SparkContext, SparkConf\n",
        "\n",
        "import pyarrow"
      ],
      "execution_count": 8,
      "outputs": []
    },
    {
      "cell_type": "markdown",
      "metadata": {
        "id": "HgzP6yW6PQ18"
      },
      "source": [
        "## Libraries"
      ]
    },
    {
      "cell_type": "code",
      "metadata": {
        "id": "dDXGhHZkPRzb"
      },
      "source": [
        "from pyspark.sql.functions import *\n",
        "from functools import reduce\n",
        "from pyspark.ml.classification import  RandomForestClassifier\n",
        "from pyspark.ml.feature import StringIndexer, OneHotEncoder, VectorAssembler, VectorSlicer\n",
        "from pyspark.ml import Pipeline\n",
        "from pyspark.ml.evaluation import BinaryClassificationEvaluator\n",
        "from pyspark.ml.linalg import Vectors\n",
        "from pyspark.ml.tuning import ParamGridBuilder, TrainValidationSplit\n",
        "import seaborn as sns\n",
        "from sklearn.metrics import classification_report"
      ],
      "execution_count": 76,
      "outputs": []
    },
    {
      "cell_type": "markdown",
      "metadata": {
        "id": "dr-8fK-1lmY0"
      },
      "source": [
        "Let's initialize the Spark context."
      ]
    },
    {
      "cell_type": "code",
      "metadata": {
        "id": "UOwtm2l7lePt"
      },
      "source": [
        "# create the session\n",
        "conf = SparkConf().set(\"spark.ui.port\", \"4050\")\n",
        "\n",
        "# create the context\n",
        "sc = pyspark.SparkContext(conf=conf)\n",
        "spark = SparkSession.builder.getOrCreate()"
      ],
      "execution_count": 10,
      "outputs": []
    },
    {
      "cell_type": "code",
      "metadata": {
        "colab": {
          "base_uri": "https://localhost:8080/",
          "height": 222
        },
        "id": "0g87iz4klwYJ",
        "outputId": "85946d30-2839-483f-bdaf-693e615d7a71"
      },
      "source": [
        "spark"
      ],
      "execution_count": 11,
      "outputs": [
        {
          "output_type": "execute_result",
          "data": {
            "text/html": [
              "\n",
              "            <div>\n",
              "                <p><b>SparkSession - in-memory</b></p>\n",
              "                \n",
              "        <div>\n",
              "            <p><b>SparkContext</b></p>\n",
              "\n",
              "            <p><a href=\"http://69498d795535:4050\">Spark UI</a></p>\n",
              "\n",
              "            <dl>\n",
              "              <dt>Version</dt>\n",
              "                <dd><code>v3.2.0</code></dd>\n",
              "              <dt>Master</dt>\n",
              "                <dd><code>local[*]</code></dd>\n",
              "              <dt>AppName</dt>\n",
              "                <dd><code>pyspark-shell</code></dd>\n",
              "            </dl>\n",
              "        </div>\n",
              "        \n",
              "            </div>\n",
              "        "
            ],
            "text/plain": [
              "<pyspark.sql.session.SparkSession at 0x7f544ae05fd0>"
            ]
          },
          "metadata": {},
          "execution_count": 11
        }
      ]
    },
    {
      "cell_type": "markdown",
      "metadata": {
        "id": "8CTsI92GPScu"
      },
      "source": [
        "## Load Data"
      ]
    },
    {
      "cell_type": "code",
      "metadata": {
        "id": "ckDWCIRBP5Gy"
      },
      "source": [
        "df = spark.read.csv(\"/content/drive/MyDrive/UNSW-NB15.csv\", inferSchema=True)"
      ],
      "execution_count": 12,
      "outputs": []
    },
    {
      "cell_type": "markdown",
      "metadata": {
        "id": "Q_sW_bXZR2Q9"
      },
      "source": [
        "## Renaming the columns\n",
        "\n",
        "### Using withColumnRenamed, notice that this method allows you to \"overwrite\" the same column. For Python3, replace xrange with range."
      ]
    },
    {
      "cell_type": "code",
      "metadata": {
        "id": "bqMVngLWRczr"
      },
      "source": [
        "oldColumns = df.schema.names"
      ],
      "execution_count": 13,
      "outputs": []
    },
    {
      "cell_type": "code",
      "metadata": {
        "id": "ysGpXVdbReah"
      },
      "source": [
        "newColumns = ['srcip', 'sport', 'dstip', 'dsport', 'proto', 'state', 'dur',\n",
        "       'sbytes', 'dbytes', 'sttl', 'dttl', 'sloss', 'dloss', 'service',\n",
        "       'Sload', 'Dload', 'Spkts', 'Dpkts', 'swin', 'dwin', 'stcpb',\n",
        "       'dtcpb', 'smeansz', 'dmeansz', 'trans_depth', 'res_bdy_len',\n",
        "       'Sjit', 'Djit', 'Stime', 'Ltime', 'Sintpkt', 'Dintpkt', 'tcprtt',\n",
        "       'synack', 'ackdat', 'is_sm_ips_ports', 'ct_state_ttl',\n",
        "       'ct_flw_http_mthd', 'is_ftp_login', 'ct_ftp_cmd', 'ct_srv_src',\n",
        "       'ct_srv_dst', 'ct_dst_ltm', 'ct_src_ ltm', 'ct_src_dport_ltm',\n",
        "       'ct_dst_sport_ltm', 'ct_dst_src_ltm', 'attack_cat', 'Label']"
      ],
      "execution_count": 14,
      "outputs": []
    },
    {
      "cell_type": "code",
      "metadata": {
        "id": "LGZ6xdmVSvUa"
      },
      "source": [
        "df = reduce(lambda df, idx: df.withColumnRenamed(oldColumns[idx], newColumns[idx]), range(len(oldColumns)), df)"
      ],
      "execution_count": 15,
      "outputs": []
    },
    {
      "cell_type": "code",
      "metadata": {
        "id": "lHdRFLMAHyFo",
        "colab": {
          "base_uri": "https://localhost:8080/"
        },
        "outputId": "aabfb80a-23ff-4e2f-b2c3-9e5bae260ba8"
      },
      "source": [
        "print(\"Total Numbers of rows in the dataset are {0} \".format(df.count()))"
      ],
      "execution_count": 16,
      "outputs": [
        {
          "output_type": "stream",
          "name": "stdout",
          "text": [
            "Total Numbers of rows in the dataset are 2539739 \n"
          ]
        }
      ]
    },
    {
      "cell_type": "markdown",
      "metadata": {
        "id": "0Q6OKQ3oslRF"
      },
      "source": [
        "## Columns Creating Hive Table to See Rows"
      ]
    },
    {
      "cell_type": "code",
      "metadata": {
        "id": "sqq8tnHM1MMG",
        "colab": {
          "base_uri": "https://localhost:8080/"
        },
        "outputId": "f6bcc80b-4d85-4672-e17e-81bdfdee4378"
      },
      "source": [
        "df.createOrReplaceTempView(\"UNSWs\")\n",
        "UNSW = spark.sql(\"SELECT * FROM UNSWs\")\n",
        "UNSW.show()"
      ],
      "execution_count": 106,
      "outputs": [
        {
          "output_type": "stream",
          "name": "stdout",
          "text": [
            "+----------+-----+-------------+------+-----+-----+------------+------+------+----+----+-----+-----+--------+---------+---------+-----+-----+----+----+----------+----------+-------+-------+-----------+-----------+----------+---------+----------+----------+------------+------------+------------+------------+------------+---------------+------------+----------------+------------+----------+----------+----------+----------+-----------+----------------+----------------+--------------+----------+-----+\n",
            "|     srcip|sport|        dstip|dsport|proto|state|         dur|sbytes|dbytes|sttl|dttl|sloss|dloss| service|    Sload|    Dload|Spkts|Dpkts|swin|dwin|     stcpb|     dtcpb|smeansz|dmeansz|trans_depth|res_bdy_len|      Sjit|     Djit|     Stime|     Ltime|     Sintpkt|     Dintpkt|      tcprtt|      synack|      ackdat|is_sm_ips_ports|ct_state_ttl|ct_flw_http_mthd|is_ftp_login|ct_ftp_cmd|ct_srv_src|ct_srv_dst|ct_dst_ltm|ct_src_ ltm|ct_src_dport_ltm|ct_dst_sport_ltm|ct_dst_src_ltm|attack_cat|Label|\n",
            "+----------+-----+-------------+------+-----+-----+------------+------+------+----+----+-----+-----+--------+---------+---------+-----+-----+----+----+----------+----------+-------+-------+-----------+-----------+----------+---------+----------+----------+------------+------------+------------+------------+------------+---------------+------------+----------------+------------+----------+----------+----------+----------+-----------+----------------+----------------+--------------+----------+-----+\n",
            "|59.166.0.3|56716|149.171.126.8|   143|  tcp|  FIN|  0.82546002|  7812| 16236|  31|  29|   30|   32|       -| 75090.25|156111.73|  122|  126| 255| 255|2751097753|2748686736|     64|    129|          0|          0| 445.25928| 474.9451|1421970774|1421970775|   6.8190908|    6.599896|5.9700001E-4|4.6899999E-4|     1.28E-4|              0|           0|               0|           0|         0|         2|         7|         1|          4|               1|               1|             1|      null|    0|\n",
            "|59.166.0.0|43467|149.171.126.6| 49729|  tcp|  FIN|    0.101815|  4238| 65628|  31|  29|    7|   30|       -|328438.84|5087030.5|   72|   74| 255| 255| 961515433|3225510659|     59|    887|          0|          0|       0.0|91.579567|1421970775|1421970775|    1.429493|    1.387192|      6.8E-4|5.4600002E-4|     1.34E-4|              0|           0|               0|           0|         0|         7|         4|         1|          6|               1|               1|             1|      null|    0|\n",
            "|59.166.0.5|41289|149.171.126.2|  9574|  tcp|  FIN| 0.044002999|  2750| 29104|  31|  29|    7|   17|       -|488693.97|5181101.5|   44|   48| 255| 255|3291096757|1191410228|     63|    606|          0|          0| 78.126968|62.206562|1421970775|1421970775|    1.014977|  0.92583001|     0.00125|     4.85E-4|     7.65E-4|              0|           0|               0|           0|         0|         3|         5|         3|          3|               1|               1|             1|      null|    0|\n",
            "|59.166.0.9|43785|149.171.126.0|  6881|  tcp|  FIN|   2.7908299| 10476|395734|  31|  29|   16|  143|       -|29863.518|1130840.8|  180|  320| 255| 255|3934392726|3961690324|     58|   1237|          0|          0| 2707.4927| 2018.976|1421970772|1421970775|   15.589459|   8.7470121|6.8400003E-4|5.3199998E-4|1.5199999E-4|              0|           0|               0|           0|         0|        11|         4|         3|          2|               1|               1|             1|      null|    0|\n",
            "|59.166.0.8|40691|149.171.126.9|  6881|  tcp|  FIN|   2.6335001| 13350|548216|  31|  29|   21|  197|       -|40381.238|1661560.6|  232|  438| 255| 255|   1518931|  18267719|     58|   1252|          0|          0| 718.33679|500.57288|1421970773|1421970775|   11.399026|   6.0251832|     6.19E-4|     4.89E-4|      1.3E-4|              0|           0|               0|           0|         0|        16|         7|         7|          1|               1|               1|             1|      null|    0|\n",
            "|59.166.0.3|20393|149.171.126.3|  5190|  tcp|  FIN|    0.115048|  1958|  2308|  31|  29|    6|    6|       -|129963.15|153814.06|   22|   24| 255| 255|3646899201|3651364285|     89|     96|          0|          0| 435.26627|417.08563|1421970775|1421970775|    5.460381|    4.976913|7.0999999E-4|     5.73E-4|     1.37E-4|              0|           0|               0|           0|         0|         2|         6|         1|          4|               1|               1|             1|      null|    0|\n",
            "|59.166.0.7|19792|149.171.126.0|    53|  udp|  CON|    0.003362|   146|   178|  31|  29|    0|    0|     dns|173706.13| 211778.7|    2|    2|   0|   0|         0|         0|     73|     89|          0|          0|       0.0|      0.0|1421970775|1421970775|       0.011|0.0060000001|         0.0|         0.0|         0.0|              0|           0|               0|           0|         0|         3|         2|         3|          3|               3|               1|             1|      null|    0|\n",
            "|59.166.0.3|14382|149.171.126.9|  3354|  tcp|  FIN|  0.45305201|   424|  8824|  31|  29|    1|    4|ftp-data| 6551.124| 142835.7|    8|   12| 255| 255|2206905053|3307670308|     53|    735|          0|          0| 3906.7949|3074.6694|1421970775|1421970775|   64.671288|   41.134998|      6.8E-4|5.5900001E-4|     1.21E-4|              0|           0|               0|           0|         0|         4|         6|         7|          4|               1|               1|             2|      null|    0|\n",
            "|59.166.0.9|37074|149.171.126.2|    53|  udp|  CON|    0.001088|   146|   178|  31|  29|    0|    0|     dns|536764.69|654411.75|    2|    2|   0|   0|         0|         0|     73|     89|          0|          0|       0.0|      0.0|1421970775|1421970775|       0.001|0.0089999996|         0.0|         0.0|         0.0|              0|           0|               0|           0|         0|         2|         5|         3|          2|               1|               1|             1|      null|    0|\n",
            "|59.166.0.7|12569|149.171.126.5|    53|  udp|  CON|9.6899999E-4|   146|   178|  31|  29|    0|    0|     dns|602683.19|734778.13|    2|    2|   0|   0|         0|         0|     73|     89|          0|          0|       0.0|      0.0|1421970775|1421970775|0.0099999998|       0.003|         0.0|         0.0|         0.0|              0|           0|               0|           0|         0|         3|         1|         2|          3|               3|               1|             1|      null|    0|\n",
            "|59.166.0.1|12792|149.171.126.7|    53|  udp|  CON|0.0010629999|   146|   178|  31|  29|    0|    0|     dns|549388.56| 669802.5|    2|    2|   0|   0|         0|         0|     73|     89|          0|          0|       0.0|      0.0|1421970780|1421970780|0.0020000001|       0.003|         0.0|         0.0|         0.0|              0|           0|               0|           0|         0|         5|         3|         2|          4|               3|               1|             1|      null|    0|\n",
            "|59.166.0.0|63414|149.171.126.9| 10330|  tcp|  FIN|  0.26501101|  8928|   320|  31|  29|    4|    1|ftp-data|250283.94|8060.0425|   14|    6| 255| 255|2386904726|3699988372|    638|     53|          0|          0| 1725.2916|71.464249|1421970775|1421970776|   20.385462|   52.644802|7.7500002E-4|6.3299999E-4|     1.42E-4|              0|           0|               0|           0|         0|         3|         6|         6|          5|               1|               1|             2|      null|    0|\n",
            "|59.166.0.1|33555|149.171.126.3|  6881|  tcp|  FIN|  0.51712799|  1540|  1644|  31|  29|    4|    4|       -|22338.764|  24025.0|   16|   18| 255| 255|1741520309|3943579644|     96|     91|          0|          0| 2036.1301| 51.91766|1421970776|1421970776|   34.433331|   30.388353|6.5399997E-4|5.2200002E-4|     1.32E-4|              0|           0|               0|           0|         0|         4|         6|         5|          7|               4|               1|             4|      null|    0|\n",
            "|59.166.0.8|10867|149.171.126.8|   111|  udp|  CON|0.0053389999|   568|   312|  31|  29|    0|    0|       -|638321.81|350627.47|    4|    4|   0|   0|         0|         0|    142|     78|          0|          0| 1.7430201| 1.757632|1421970776|1421970776|        1.24|    1.252333|         0.0|         0.0|         0.0|              0|           0|               0|           0|         0|        16|         7|         5|          5|               1|               1|             4|      null|    0|\n",
            "|59.166.0.8|12411|149.171.126.8|  1715|  udp|  CON|    0.001739|   512|   304|  31|  29|    0|    0|       -|1766532.5|1048878.6|    4|    4|   0|   0|         0|         0|    128|     76|          0|          0|0.63026798| 0.318434|1421970776|1421970776|  0.44966701|    0.227667|         0.0|         0.0|         0.0|              0|           0|               0|           0|         0|        16|         7|         5|          5|               1|               1|             4|      null|    0|\n",
            "|59.166.0.8|46725|149.171.126.2|    53|  udp|  CON|    0.001018|   146|   178|  31|  29|    0|    0|     dns|573673.88|699410.63|    2|    2|   0|   0|         0|         0|     73|     89|          0|          0|       0.0|      0.0|1421970776|1421970776|       0.011|       0.011|         0.0|         0.0|         0.0|              0|           0|               0|           0|         0|         2|         5|         3|          5|               1|               1|             1|      null|    0|\n",
            "|59.166.0.1|51562|149.171.126.4|    53|  udp|  CON|    0.001044|   146|   178|  31|  29|    0|    0|     dns|559386.94|681992.31|    2|    2|   0|   0|         0|         0|     73|     89|          0|          0|       0.0|      0.0|1421970776|1421970776|       0.011|       0.003|         0.0|         0.0|         0.0|              0|           0|               0|           0|         0|         2|         3|         5|          7|               2|               1|             3|      null|    0|\n",
            "|59.166.0.3|48838|149.171.126.2|    53|  udp|  CON|9.8699995E-4|   146|   178|  31|  29|    0|    0|     dns| 591692.0|721377.94|    2|    2|   0|   0|         0|         0|     73|     89|          0|          0|       0.0|      0.0|1421970776|1421970776|0.0080000004|       0.003|         0.0|         0.0|         0.0|              0|           0|               0|           0|         0|         2|         5|         3|          3|               1|               1|             1|      null|    0|\n",
            "|59.166.0.0|16907|149.171.126.9|    21|  tcp|  FIN|   2.2547121|  2934|  3740|  31|  29|   11|   15|     ftp|10211.503|13025.166|   52|   54| 255| 255| 241515551|2584135680|     56|     69|          0|          0| 3141.3708| 99.93412|1421970773|1421970776|   44.203648|   42.531734|6.6100003E-4|5.2499998E-4|     1.36E-4|              0|           0|               0|           0|         0|         1|         3|         6|          5|               1|               1|             2|      null|    0|\n",
            "|59.166.0.0| 1915|149.171.126.4| 32945|  tcp|  FIN| 0.051220998|  2854| 29104|  31|  29|    7|   17|       -|436071.16|4450987.0|   46|   48| 255| 255|1921515932|1974066994|     62|    606|          0|          0| 78.226654|76.387978|1421970776|1421970776|   1.1294219|   1.0781699|      8.1E-4|     5.43E-4|     2.67E-4|              0|           0|               0|           0|         0|         7|         2|         5|          5|               1|               1|             2|      null|    0|\n",
            "+----------+-----+-------------+------+-----+-----+------------+------+------+----+----+-----+-----+--------+---------+---------+-----+-----+----+----+----------+----------+-------+-------+-----------+-----------+----------+---------+----------+----------+------------+------------+------------+------------+------------+---------------+------------+----------------+------------+----------+----------+----------+----------+-----------+----------------+----------------+--------------+----------+-----+\n",
            "only showing top 20 rows\n",
            "\n"
          ]
        }
      ]
    },
    {
      "cell_type": "code",
      "metadata": {
        "colab": {
          "base_uri": "https://localhost:8080/"
        },
        "id": "S1A6Q5UWTgr7",
        "outputId": "4e81014b-a5d0-465a-fcde-8ac5861c042e"
      },
      "source": [
        "spark.sql(\"show tables\").show()"
      ],
      "execution_count": 107,
      "outputs": [
        {
          "output_type": "stream",
          "name": "stdout",
          "text": [
            "+---------+---------+-----------+\n",
            "|namespace|tableName|isTemporary|\n",
            "+---------+---------+-----------+\n",
            "|         |     unsw|       true|\n",
            "|         |    unsws|       true|\n",
            "+---------+---------+-----------+\n",
            "\n"
          ]
        }
      ]
    },
    {
      "cell_type": "markdown",
      "source": [
        "## Descriptive Statistics"
      ],
      "metadata": {
        "id": "_vKNPXfIvdvn"
      }
    },
    {
      "cell_type": "markdown",
      "metadata": {
        "id": "Au6ASfH8NtFR"
      },
      "source": [
        "## Describtion for Numeric Columns\n",
        "\n",
        "Statisical Summary of each numerical column in the dataframe  which summarize the central tendency, dispersion and shape of a dataset’s distribution, excluding NaN values.\n",
        "\n",
        "* DataFrame.count : Count number of non-NA/null observations.\n",
        "* DataFrame.max: Maximum of the values in the object.\n",
        "* DataFrame.min : Minimum of the values in the object.\n",
        "* DataFrame.mean : Mean of the values.\n",
        "\n",
        "![1.png](data:image/png;base64,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)\n",
        "* DataFrame.std : Standard deviation of the observations.\n",
        "\n",
        "![2.png](data:image/png;base64,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)\n",
        "* DataFrame.select_dtypes : Subset of a DataFrame including/excluding columns based on their dtype.\n",
        "\n"
      ]
    },
    {
      "cell_type": "code",
      "metadata": {
        "id": "jud8d2So4NMR",
        "colab": {
          "base_uri": "https://localhost:8080/"
        },
        "outputId": "567d2ac0-547a-48ea-cc15-e0b284b2e779"
      },
      "source": [
        "UNSW.describe().show()"
      ],
      "execution_count": null,
      "outputs": [
        {
          "output_type": "stream",
          "name": "stdout",
          "text": [
            "+-------+-----------+------------------+-----------+------------------+-------+-------+------------------+-----------------+------------------+-----------------+------------------+-----------------+------------------+-------+--------------------+-----------------+-----------------+------------------+------------------+------------------+--------------------+--------------------+------------------+------------------+-------------------+------------------+------------------+------------------+--------------------+--------------------+------------------+-----------------+--------------------+--------------------+-------------------+--------------------+-------------------+-------------------+-------------------+--------------------+------------------+------------------+-----------------+-----------------+-----------------+-----------------+------------------+----------+-------------------+\n",
            "|summary|      srcip|             sport|      dstip|            dsport|  proto|  state|               dur|           sbytes|            dbytes|             sttl|              dttl|            sloss|             dloss|service|               Sload|            Dload|            Spkts|             Dpkts|              swin|              dwin|               stcpb|               dtcpb|           smeansz|           dmeansz|        trans_depth|       res_bdy_len|              Sjit|              Djit|               Stime|               Ltime|           Sintpkt|          Dintpkt|              tcprtt|              synack|             ackdat|     is_sm_ips_ports|       ct_state_ttl|   ct_flw_http_mthd|       is_ftp_login|          ct_ftp_cmd|        ct_srv_src|        ct_srv_dst|       ct_dst_ltm|      ct_src_ ltm| ct_src_dport_ltm| ct_dst_sport_ltm|    ct_dst_src_ltm|attack_cat|              Label|\n",
            "+-------+-----------+------------------+-----------+------------------+-------+-------+------------------+-----------------+------------------+-----------------+------------------+-----------------+------------------+-------+--------------------+-----------------+-----------------+------------------+------------------+------------------+--------------------+--------------------+------------------+------------------+-------------------+------------------+------------------+------------------+--------------------+--------------------+------------------+-----------------+--------------------+--------------------+-------------------+--------------------+-------------------+-------------------+-------------------+--------------------+------------------+------------------+-----------------+-----------------+-----------------+-----------------+------------------+----------+-------------------+\n",
            "|  count|    2539739|           2539739|    2539739|           2539739|2539739|2539739|           2539739|          2539739|           2539739|          2539739|           2539739|          2539739|           2539739|2539739|             2539739|          2539739|          2539739|           2539739|           2539739|           2539739|             2539739|             2539739|           2539739|           2539739|            2539739|           2539739|           2539739|           2539739|             2539739|             2539739|           2539739|          2539739|             2539739|             2539739|            2539739|             2539739|            2539739|            2539739|            2539739|             2539739|           2539739|           2539739|          2539739|          2539739|          2539739|          2539739|           2539739|    321283|            2539739|\n",
            "|   mean|       null| 30536.93108583205|       null|11235.096788685767|   null|   null|0.6588634003800393|4340.072263330996| 36432.01132478574|62.78149802007214|   30.770440978384|5.164547223159545|16.331423819534212|   null| 3.694927939363408E7|2451158.440857539| 33.2925678583508|42.731821655689814|150.10695075360107|149.76404347060858|1.2618542900429437E9|1.2619194806546414E9|124.25270588828222|276.70543193611627|0.08326328020320198| 4242.632264575218|1589.1543650105623| 730.1640026779703|1.4232606949103932E9|1.4232606956744623E9| 193.0465504924596|78.83432357570544|0.006181224255109452|0.003287993858563316|0.00289323039543641|0.001651744529654425|0.26118471228736495|0.11009123378425893|0.01735335796316078|0.020560380417042855| 9.207911915358231| 8.989882818667587|6.439727074317479|6.901640286659378|4.642571933572702|3.593031803661715|  6.84655746121944|      null| 0.1265023689442104|\n",
            "| stddev|       null|20441.216792342224|       null| 18438.20083577165|   null|   null|13.925767633289283|56409.39812286232|161105.30400824756|74.62669956848524|42.851922189518724|22.51836838779722|56.597890353205116|   null|1.1860413786386509E8|4225032.897503491|76.28775585678378|121.50842004704197|125.47913122211004|125.54062192608511| 1.422045057823864E9| 1.422157469789883E9|151.92108772283464| 335.6231650135929|0.35002455674771116|47503.383153168135|16911.377637309888|3438.7574708801694|  1134456.4636742047|  1134456.2648463438|2778.5830034350847|1433.278071549331|  0.0461613828526482|0.025937245439328835|0.02394810919858883|0.040608089328964335| 0.6831310323762818| 0.5564518805021055|0.13346510417617913|  0.1843730431164465|10.837080948770966|10.822813466163238|8.162329925209063|8.205340175616495|8.478001123292248|6.174757636883334|11.258797786324628|      null|0.33241474561750184|\n",
            "|    min|10.40.170.2|                 0|10.40.170.2|                 0|    3pc|    ACC|               0.0|                0|                 0|                0|                 0|                0|                 0|      -|                 0.0|              0.0|                0|                 0|                 0|                 0|                   0|                   0|                 0|                 0|                  0|                 0|               0.0|               0.0|          1421927377|          1421927414|               0.0|              0.0|                 0.0|                 0.0|                0.0|                   0|                  0|                  0|                  0|                   0|                 1|                 1|                1|                1|                1|                1|                 1|  Analysis|                  0|\n",
            "|    max| 59.166.0.9|             65535| 59.166.0.9|             65535|   zero|     no|         8786.6377|         14355774|          14657531|              255|               254|             5319|              5507|    ssl|         5.9880003E9|       1.287619E8|            10646|             11018|               255|               255|          4294958913|          4294953724|              1504|              1500|                172|           6558056|         1483830.9|         781221.13|          1424262068|          1424262069|         84371.492|         59485.32|           10.037506|           4.5252719|          5.5122342|                   1|                  6|                 36|                  4|                   8|                67|                67|               67|               67|               67|               60|                67|     Worms|                  1|\n",
            "+-------+-----------+------------------+-----------+------------------+-------+-------+------------------+-----------------+------------------+-----------------+------------------+-----------------+------------------+-------+--------------------+-----------------+-----------------+------------------+------------------+------------------+--------------------+--------------------+------------------+------------------+-------------------+------------------+------------------+------------------+--------------------+--------------------+------------------+-----------------+--------------------+--------------------+-------------------+--------------------+-------------------+-------------------+-------------------+--------------------+------------------+------------------+-----------------+-----------------+-----------------+-----------------+------------------+----------+-------------------+\n",
            "\n"
          ]
        }
      ]
    },
    {
      "cell_type": "markdown",
      "metadata": {
        "id": "V9xmnRQJIB-Y"
      },
      "source": [
        "## Data Preprocessing"
      ]
    },
    {
      "cell_type": "code",
      "metadata": {
        "id": "mXHRF9gZsmc2",
        "colab": {
          "base_uri": "https://localhost:8080/"
        },
        "outputId": "9c16cdba-503a-4ba3-825a-da7b8900627f"
      },
      "source": [
        "UNSW.printSchema()"
      ],
      "execution_count": null,
      "outputs": [
        {
          "output_type": "stream",
          "name": "stdout",
          "text": [
            "root\n",
            " |-- srcip: string (nullable = true)\n",
            " |-- sport: integer (nullable = true)\n",
            " |-- dstip: string (nullable = true)\n",
            " |-- dsport: integer (nullable = true)\n",
            " |-- proto: string (nullable = true)\n",
            " |-- state: string (nullable = true)\n",
            " |-- dur: double (nullable = true)\n",
            " |-- sbytes: integer (nullable = true)\n",
            " |-- dbytes: integer (nullable = true)\n",
            " |-- sttl: integer (nullable = true)\n",
            " |-- dttl: integer (nullable = true)\n",
            " |-- sloss: integer (nullable = true)\n",
            " |-- dloss: integer (nullable = true)\n",
            " |-- service: string (nullable = true)\n",
            " |-- Sload: double (nullable = true)\n",
            " |-- Dload: double (nullable = true)\n",
            " |-- Spkts: integer (nullable = true)\n",
            " |-- Dpkts: integer (nullable = true)\n",
            " |-- swin: integer (nullable = true)\n",
            " |-- dwin: integer (nullable = true)\n",
            " |-- stcpb: long (nullable = true)\n",
            " |-- dtcpb: long (nullable = true)\n",
            " |-- smeansz: integer (nullable = true)\n",
            " |-- dmeansz: integer (nullable = true)\n",
            " |-- trans_depth: integer (nullable = true)\n",
            " |-- res_bdy_len: integer (nullable = true)\n",
            " |-- Sjit: double (nullable = true)\n",
            " |-- Djit: double (nullable = true)\n",
            " |-- Stime: integer (nullable = true)\n",
            " |-- Ltime: integer (nullable = true)\n",
            " |-- Sintpkt: double (nullable = true)\n",
            " |-- Dintpkt: double (nullable = true)\n",
            " |-- tcprtt: double (nullable = true)\n",
            " |-- synack: double (nullable = true)\n",
            " |-- ackdat: double (nullable = true)\n",
            " |-- is_sm_ips_ports: integer (nullable = true)\n",
            " |-- ct_state_ttl: integer (nullable = true)\n",
            " |-- ct_flw_http_mthd: integer (nullable = true)\n",
            " |-- is_ftp_login: integer (nullable = true)\n",
            " |-- ct_ftp_cmd: integer (nullable = true)\n",
            " |-- ct_srv_src: integer (nullable = true)\n",
            " |-- ct_srv_dst: integer (nullable = true)\n",
            " |-- ct_dst_ltm: integer (nullable = true)\n",
            " |-- ct_src_ ltm: integer (nullable = true)\n",
            " |-- ct_src_dport_ltm: integer (nullable = true)\n",
            " |-- ct_dst_sport_ltm: integer (nullable = true)\n",
            " |-- ct_dst_src_ltm: integer (nullable = true)\n",
            " |-- attack_cat: string (nullable = true)\n",
            " |-- Label: integer (nullable = true)\n",
            "\n"
          ]
        }
      ]
    },
    {
      "cell_type": "markdown",
      "metadata": {
        "id": "rda6XGt5TrnT"
      },
      "source": [
        "## Fill Null Values in attack_cat with Begine(Normal)"
      ]
    },
    {
      "cell_type": "code",
      "metadata": {
        "id": "juNymLzKT9gZ"
      },
      "source": [
        "UNSW = UNSW.na.fill(value='benign',subset=[\"attack_cat\"])"
      ],
      "execution_count": 18,
      "outputs": []
    },
    {
      "cell_type": "code",
      "metadata": {
        "colab": {
          "base_uri": "https://localhost:8080/"
        },
        "id": "CIgSxQb5UI9O",
        "outputId": "d258888f-89fd-4aba-e422-b37348d59304"
      },
      "source": [
        "UNSW.show(5)"
      ],
      "execution_count": 19,
      "outputs": [
        {
          "output_type": "stream",
          "name": "stdout",
          "text": [
            "+----------+-----+-------------+------+-----+-----+-----------+------+------+----+----+-----+-----+-------+---------+---------+-----+-----+----+----+----------+----------+-------+-------+-----------+-----------+---------+---------+----------+----------+---------+----------+------------+------------+------------+---------------+------------+----------------+------------+----------+----------+----------+----------+-----------+----------------+----------------+--------------+----------+-----+\n",
            "|     srcip|sport|        dstip|dsport|proto|state|        dur|sbytes|dbytes|sttl|dttl|sloss|dloss|service|    Sload|    Dload|Spkts|Dpkts|swin|dwin|     stcpb|     dtcpb|smeansz|dmeansz|trans_depth|res_bdy_len|     Sjit|     Djit|     Stime|     Ltime|  Sintpkt|   Dintpkt|      tcprtt|      synack|      ackdat|is_sm_ips_ports|ct_state_ttl|ct_flw_http_mthd|is_ftp_login|ct_ftp_cmd|ct_srv_src|ct_srv_dst|ct_dst_ltm|ct_src_ ltm|ct_src_dport_ltm|ct_dst_sport_ltm|ct_dst_src_ltm|attack_cat|Label|\n",
            "+----------+-----+-------------+------+-----+-----+-----------+------+------+----+----+-----+-----+-------+---------+---------+-----+-----+----+----+----------+----------+-------+-------+-----------+-----------+---------+---------+----------+----------+---------+----------+------------+------------+------------+---------------+------------+----------------+------------+----------+----------+----------+----------+-----------+----------------+----------------+--------------+----------+-----+\n",
            "|59.166.0.3|56716|149.171.126.8|   143|  tcp|  FIN| 0.82546002|  7812| 16236|  31|  29|   30|   32|      -| 75090.25|156111.73|  122|  126| 255| 255|2751097753|2748686736|     64|    129|          0|          0|445.25928| 474.9451|1421970774|1421970775|6.8190908|  6.599896|5.9700001E-4|4.6899999E-4|     1.28E-4|              0|           0|               0|           0|         0|         2|         7|         1|          4|               1|               1|             1|    benign|    0|\n",
            "|59.166.0.0|43467|149.171.126.6| 49729|  tcp|  FIN|   0.101815|  4238| 65628|  31|  29|    7|   30|      -|328438.84|5087030.5|   72|   74| 255| 255| 961515433|3225510659|     59|    887|          0|          0|      0.0|91.579567|1421970775|1421970775| 1.429493|  1.387192|      6.8E-4|5.4600002E-4|     1.34E-4|              0|           0|               0|           0|         0|         7|         4|         1|          6|               1|               1|             1|    benign|    0|\n",
            "|59.166.0.5|41289|149.171.126.2|  9574|  tcp|  FIN|0.044002999|  2750| 29104|  31|  29|    7|   17|      -|488693.97|5181101.5|   44|   48| 255| 255|3291096757|1191410228|     63|    606|          0|          0|78.126968|62.206562|1421970775|1421970775| 1.014977|0.92583001|     0.00125|     4.85E-4|     7.65E-4|              0|           0|               0|           0|         0|         3|         5|         3|          3|               1|               1|             1|    benign|    0|\n",
            "|59.166.0.9|43785|149.171.126.0|  6881|  tcp|  FIN|  2.7908299| 10476|395734|  31|  29|   16|  143|      -|29863.518|1130840.8|  180|  320| 255| 255|3934392726|3961690324|     58|   1237|          0|          0|2707.4927| 2018.976|1421970772|1421970775|15.589459| 8.7470121|6.8400003E-4|5.3199998E-4|1.5199999E-4|              0|           0|               0|           0|         0|        11|         4|         3|          2|               1|               1|             1|    benign|    0|\n",
            "|59.166.0.8|40691|149.171.126.9|  6881|  tcp|  FIN|  2.6335001| 13350|548216|  31|  29|   21|  197|      -|40381.238|1661560.6|  232|  438| 255| 255|   1518931|  18267719|     58|   1252|          0|          0|718.33679|500.57288|1421970773|1421970775|11.399026| 6.0251832|     6.19E-4|     4.89E-4|      1.3E-4|              0|           0|               0|           0|         0|        16|         7|         7|          1|               1|               1|             1|    benign|    0|\n",
            "+----------+-----+-------------+------+-----+-----+-----------+------+------+----+----+-----+-----+-------+---------+---------+-----+-----+----+----+----------+----------+-------+-------+-----------+-----------+---------+---------+----------+----------+---------+----------+------------+------------+------------+---------------+------------+----------------+------------+----------+----------+----------+----------+-----------+----------------+----------------+--------------+----------+-----+\n",
            "only showing top 5 rows\n",
            "\n"
          ]
        }
      ]
    },
    {
      "cell_type": "markdown",
      "metadata": {
        "id": "WhOiOK1kbx4f"
      },
      "source": [
        "## Check Null"
      ]
    },
    {
      "cell_type": "code",
      "metadata": {
        "colab": {
          "base_uri": "https://localhost:8080/"
        },
        "id": "1K99mcPgUQVY",
        "outputId": "be90cf5d-fd1c-4c66-96f3-9b30d3c5f35b"
      },
      "source": [
        "from pyspark.sql.functions import col,sum\n",
        "UNSW.select(*(sum(col(c).isNull().cast(\"int\")).alias(c) for c in UNSW.columns)).show()"
      ],
      "execution_count": null,
      "outputs": [
        {
          "output_type": "stream",
          "name": "stdout",
          "text": [
            "+-----+-----+-----+------+-----+-----+---+------+------+----+----+-----+-----+-------+-----+-----+-----+-----+----+----+-----+-----+-------+-------+-----------+-----------+----+----+-----+-----+-------+-------+------+------+------+---------------+------------+----------------+------------+----------+----------+----------+----------+-----------+----------------+----------------+--------------+----------+-----+\n",
            "|srcip|sport|dstip|dsport|proto|state|dur|sbytes|dbytes|sttl|dttl|sloss|dloss|service|Sload|Dload|Spkts|Dpkts|swin|dwin|stcpb|dtcpb|smeansz|dmeansz|trans_depth|res_bdy_len|Sjit|Djit|Stime|Ltime|Sintpkt|Dintpkt|tcprtt|synack|ackdat|is_sm_ips_ports|ct_state_ttl|ct_flw_http_mthd|is_ftp_login|ct_ftp_cmd|ct_srv_src|ct_srv_dst|ct_dst_ltm|ct_src_ ltm|ct_src_dport_ltm|ct_dst_sport_ltm|ct_dst_src_ltm|attack_cat|Label|\n",
            "+-----+-----+-----+------+-----+-----+---+------+------+----+----+-----+-----+-------+-----+-----+-----+-----+----+----+-----+-----+-------+-------+-----------+-----------+----+----+-----+-----+-------+-------+------+------+------+---------------+------------+----------------+------------+----------+----------+----------+----------+-----------+----------------+----------------+--------------+----------+-----+\n",
            "|    0|    0|    0|     0|    0|    0|  0|     0|     0|   0|   0|    0|    0|      0|    0|    0|    0|    0|   0|   0|    0|    0|      0|      0|          0|          0|   0|   0|    0|    0|      0|      0|     0|     0|     0|              0|           0|               0|           0|         0|         0|         0|         0|          0|               0|               0|             0|         0|    0|\n",
            "+-----+-----+-----+------+-----+-----+---+------+------+----+----+-----+-----+-------+-----+-----+-----+-----+----+----+-----+-----+-------+-------+-----------+-----------+----+----+-----+-----+-------+-------+------+------+------+---------------+------------+----------------+------------+----------+----------+----------+----------+-----------+----------------+----------------+--------------+----------+-----+\n",
            "\n"
          ]
        }
      ]
    },
    {
      "cell_type": "markdown",
      "metadata": {
        "id": "8dZoLnkhxxN8"
      },
      "source": [
        "## **Exploratory Analysis**\n",
        "\n",
        "Exploratory Analysis is a phrase used in data analysis to describe the process of exploring data and extracting relevant information. After you've collected, cleaned, and processed all of your data, you'll perform exploratory analysis. By altering the data, you can locate the exact information you need to complete the analysis, or you can get more if you need it. Varous techniques using python libaries can be used to conduct analysis during this phase which can help in better understanding of the dataset and help in forming better conclusions based on the requirements. \n",
        "\n",
        "\n",
        "\n"
      ]
    },
    {
      "cell_type": "markdown",
      "metadata": {
        "id": "ym39AOHkXUuT"
      },
      "source": [
        "## Binary Labels"
      ]
    },
    {
      "cell_type": "code",
      "metadata": {
        "id": "dnphXFot8xpv",
        "colab": {
          "base_uri": "https://localhost:8080/"
        },
        "outputId": "acae5338-3df2-41c7-dc27-bafba69b91db"
      },
      "source": [
        "UNSW.createOrReplaceTempView(\"UNSWs\")\n",
        "blabel = spark.sql(\"SELECT Label, count(Label) as total FROM UNSWs group by Label order by total DESC\")\n",
        "blabel.show()"
      ],
      "execution_count": null,
      "outputs": [
        {
          "output_type": "stream",
          "name": "stdout",
          "text": [
            "+-----+-------+\n",
            "|Label|  total|\n",
            "+-----+-------+\n",
            "|    0|2218456|\n",
            "|    1| 321283|\n",
            "+-----+-------+\n",
            "\n"
          ]
        }
      ]
    },
    {
      "cell_type": "code",
      "metadata": {
        "id": "L_pALJmP9UtN"
      },
      "source": [
        "blabel = blabel.toPandas()"
      ],
      "execution_count": null,
      "outputs": []
    },
    {
      "cell_type": "code",
      "metadata": {
        "id": "Fo9yjxKya7HC",
        "colab": {
          "base_uri": "https://localhost:8080/",
          "height": 406
        },
        "outputId": "555dd7a5-fcef-4b82-c2d3-fd169d4b5aed"
      },
      "source": [
        "sns.set_style(\"whitegrid\")\n",
        "bar,ax = plt.subplots(figsize=(15,6))\n",
        "ax = sns.barplot(x=blabel['Label'], y=blabel['total'], data=blabel, ci=None, palette=\"autumn\",orient='v', )\n",
        "ax.set_title(\"Binary Attack\", fontsize=15)\n",
        "ax.set_xlabel (\"Attack\")\n",
        "ax.set_ylabel (\"Total Count\")\n",
        "for rect in ax.patches:\n",
        "    ax.text (rect.get_x()  + rect.get_width() /5,rect.get_height(),\"%.1f\"% rect.get_height(), weight='bold' )\n",
        "bar.savefig(\"attackcount.png\");"
      ],
      "execution_count": null,
      "outputs": [
        {
          "output_type": "display_data",
          "data": {
            "image/png": "[encoded data removed]",
            "text/plain": [
              "<Figure size 1080x432 with 1 Axes>"
            ]
          },
          "metadata": {}
        }
      ]
    },
    {
      "cell_type": "markdown",
      "source": [
        "## These four columns are categorical: 'attack_cat', 'state', 'service', 'proto'. Among them 'attack_cat' isn't a feature. These features are categorical but in integer form : 'is_sm_ips_ports', 'ct_state_ttl', 'is_ftp_login'.\n",
        "\n",
        "## Lets Visulized them Graphically"
      ],
      "metadata": {
        "id": "GyzB9kNAv49c"
      }
    },
    {
      "cell_type": "markdown",
      "metadata": {
        "id": "VlXJpogHbFlJ"
      },
      "source": [
        "## Multi Classification"
      ]
    },
    {
      "cell_type": "code",
      "metadata": {
        "id": "UVaQ9y2HbHhO",
        "colab": {
          "base_uri": "https://localhost:8080/"
        },
        "outputId": "bd727022-2626-4e1b-ea5c-955f2c2e2baf"
      },
      "source": [
        "Mlabel = spark.sql(\"SELECT attack_cat, count(attack_cat) as total FROM UNSWs group by attack_cat order by total DESC\")\n",
        "Mlabel.show()"
      ],
      "execution_count": null,
      "outputs": [
        {
          "output_type": "stream",
          "name": "stdout",
          "text": [
            "+---------------+-------+\n",
            "|     attack_cat|  total|\n",
            "+---------------+-------+\n",
            "|         benign|2218456|\n",
            "|        Generic| 215481|\n",
            "|       Exploits|  44525|\n",
            "|       Fuzzers |  19195|\n",
            "|            DoS|  16353|\n",
            "|Reconnaissance |  12228|\n",
            "|        Fuzzers|   5051|\n",
            "|       Analysis|   2677|\n",
            "|       Backdoor|   1795|\n",
            "| Reconnaissance|   1759|\n",
            "|     Shellcode |   1288|\n",
            "|      Backdoors|    534|\n",
            "|      Shellcode|    223|\n",
            "|          Worms|    174|\n",
            "+---------------+-------+\n",
            "\n"
          ]
        }
      ]
    },
    {
      "cell_type": "code",
      "metadata": {
        "id": "wXOxy3A0XbVt"
      },
      "source": [
        "labels = Mlabel.toPandas()"
      ],
      "execution_count": null,
      "outputs": []
    },
    {
      "cell_type": "code",
      "metadata": {
        "id": "KWNHVFNeYHJ1",
        "colab": {
          "base_uri": "https://localhost:8080/",
          "height": 406
        },
        "outputId": "545ee9dd-74d0-47d9-db42-e063798a8910"
      },
      "source": [
        "sns.set_style(\"whitegrid\")\n",
        "bar,ax = plt.subplots(figsize=(15,6))\n",
        "ax = sns.barplot(x=labels['attack_cat'], y=labels['total'], data=labels, ci=None, palette=\"autumn\",orient='v', )\n",
        "ax.set_title(\"Multi Attack Labels\", fontsize=15)\n",
        "ax.set_xlabel (\"Attack\")\n",
        "ax.set_ylabel (\"Total Count\")\n",
        "for rect in ax.patches:\n",
        "    ax.text (rect.get_x()  + rect.get_width() /5,rect.get_height(),\"%.1f\"% rect.get_height(), weight='bold' )\n",
        "bar.savefig(\"attackcount.png\");"
      ],
      "execution_count": null,
      "outputs": [
        {
          "output_type": "display_data",
          "data": {
            "image/png": "[encoded data removed]",
            "text/plain": [
              "<Figure size 1080x432 with 1 Axes>"
            ]
          },
          "metadata": {}
        }
      ]
    },
    {
      "cell_type": "markdown",
      "source": [
        "## Top 30 Viuslizing which Protocal was used more for attack"
      ],
      "metadata": {
        "id": "OwKPqlQV4DMs"
      }
    },
    {
      "cell_type": "code",
      "source": [
        "vis = spark.sql(\"select \"'attack_cat'\",\"'proto'\", count(*) as count from UNSWs where attack_cat != 'benign'\\\n",
        "          group by attack_cat,proto\\\n",
        "          order by count desc Limit 30\")\n",
        "vis.show()"
      ],
      "metadata": {
        "colab": {
          "base_uri": "https://localhost:8080/"
        },
        "id": "sN7KxmCk5JCF",
        "outputId": "31cb0ba7-cbdf-40bf-db97-06e8984cc496"
      },
      "execution_count": null,
      "outputs": [
        {
          "output_type": "stream",
          "name": "stdout",
          "text": [
            "+---------------+-----+------+\n",
            "|     attack_cat|proto| count|\n",
            "+---------------+-----+------+\n",
            "|        Generic|  udp|210600|\n",
            "|       Exploits|  tcp| 27443|\n",
            "|       Fuzzers |  tcp| 12374|\n",
            "|       Exploits| unas|  6532|\n",
            "|Reconnaissance |  tcp|  5947|\n",
            "|            DoS| unas|  5246|\n",
            "|       Fuzzers |  udp|  5082|\n",
            "|Reconnaissance |  udp|  4175|\n",
            "|            DoS|  tcp|  3336|\n",
            "|        Generic|  tcp|  3118|\n",
            "|        Fuzzers|  tcp|  3100|\n",
            "|       Exploits| ospf|  1504|\n",
            "| Reconnaissance|  tcp|  1018|\n",
            "|        Fuzzers|  udp|   961|\n",
            "|            DoS| ospf|   944|\n",
            "|       Analysis| unas|   926|\n",
            "|       Exploits|  udp|   874|\n",
            "|Reconnaissance | unas|   840|\n",
            "|       Exploits| sctp|   739|\n",
            "|        Generic| unas|   720|\n",
            "+---------------+-----+------+\n",
            "only showing top 20 rows\n",
            "\n"
          ]
        }
      ]
    },
    {
      "cell_type": "code",
      "source": [
        "vispd = vis.toPandas()"
      ],
      "metadata": {
        "id": "712hs3W04gSR"
      },
      "execution_count": null,
      "outputs": []
    },
    {
      "cell_type": "code",
      "source": [
        "sns.set_style('whitegrid')\n",
        "sns.relplot(data=vispd, x=\"attack_cat\", y=\"count\", hue=\"proto\", height=8.27, aspect=11.7/8.27)"
      ],
      "metadata": {
        "colab": {
          "base_uri": "https://localhost:8080/",
          "height": 623
        },
        "id": "LTjj4SFX9xAY",
        "outputId": "12e40a7c-d538-422e-f5b0-af21f3413383"
      },
      "execution_count": null,
      "outputs": [
        {
          "output_type": "execute_result",
          "data": {
            "text/plain": [
              "<seaborn.axisgrid.FacetGrid at 0x7f3972053b50>"
            ]
          },
          "metadata": {},
          "execution_count": 31
        },
        {
          "output_type": "display_data",
          "data": {
            "image/png": "[encoded data removed]",
            "text/plain": [
              "<Figure size 902.525x595.44 with 1 Axes>"
            ]
          },
          "metadata": {}
        }
      ]
    },
    {
      "cell_type": "markdown",
      "source": [
        "##is_ftp_login\n",
        "if the ftp session is accessed by user and password then 1 else 0. In most of the cases session has no user and password. However there are values 2 and 4 which should not be there so thats are removed"
      ],
      "metadata": {
        "id": "ePkgIaleBJdM"
      }
    },
    {
      "cell_type": "code",
      "source": [
        "vis = spark.sql(\"select \"'is_ftp_login'\",\"'label'\", count(label) as count from UNSWs where is_ftp_login != 4 and is_ftp_login != 2 \\\n",
        "          group by is_ftp_login,label\\\n",
        "          order by count desc\")\n",
        "vis.show()"
      ],
      "metadata": {
        "colab": {
          "base_uri": "https://localhost:8080/"
        },
        "id": "FksCkHE3BMEE",
        "outputId": "f7e705e3-3a73-4190-edf6-981b9c71eca2"
      },
      "execution_count": null,
      "outputs": [
        {
          "output_type": "stream",
          "name": "stdout",
          "text": [
            "+------------+-----+-------+\n",
            "|is_ftp_login|label|  count|\n",
            "+------------+-----+-------+\n",
            "|           0|    0|2176814|\n",
            "|           0|    1| 319350|\n",
            "|           1|    0|  41480|\n",
            "|           1|    1|   1909|\n",
            "+------------+-----+-------+\n",
            "\n"
          ]
        }
      ]
    },
    {
      "cell_type": "code",
      "source": [
        "vispd = vis.toPandas()"
      ],
      "metadata": {
        "id": "lab8Y700C7L4"
      },
      "execution_count": null,
      "outputs": []
    },
    {
      "cell_type": "code",
      "source": [
        "sns.barplot(x=\"is_ftp_login\", y=\"count\", hue=\"label\", data=vispd);"
      ],
      "metadata": {
        "colab": {
          "base_uri": "https://localhost:8080/",
          "height": 291
        },
        "id": "crl82NyKCwOM",
        "outputId": "ff8d141b-349a-4083-9a89-6c02450899a4"
      },
      "execution_count": null,
      "outputs": [
        {
          "output_type": "display_data",
          "data": {
            "image/png": "[encoded data removed]",
            "text/plain": [
              "<Figure size 432x288 with 1 Axes>"
            ]
          },
          "metadata": {}
        }
      ]
    },
    {
      "cell_type": "markdown",
      "source": [
        "## ct_dst_ltm\n",
        "Numerical feature.\n",
        "No. of connections of the same destination address in 100 connections according to the last time.\n",
        "\n",
        "* Range of values of this feature is about 0 to 70\n",
        "* For normal data most of the values are between 0 to 10 and few from 10 to 20.\n",
        "* For anomaly values are close to 0 and also there are values from 10 to 30.\n"
      ],
      "metadata": {
        "id": "nOo3VsQ-EQgx"
      }
    },
    {
      "cell_type": "code",
      "source": [
        "vispd_normal = spark.sql(\"select \"'ct_dst_ltm'\",\"'label'\" from UNSWs where label == 0\")"
      ],
      "metadata": {
        "id": "j3hDA5ZdERgF"
      },
      "execution_count": null,
      "outputs": []
    },
    {
      "cell_type": "code",
      "source": [
        "vispd_anomaly = spark.sql(\"select \"'ct_dst_ltm'\",\"'label'\" from UNSWs where label == 1\")"
      ],
      "metadata": {
        "id": "26_0fRfh8WAK"
      },
      "execution_count": null,
      "outputs": []
    },
    {
      "cell_type": "code",
      "source": [
        "v1 = vispd_normal.toPandas()\n",
        "v2 = vispd_anomaly.toPandas()"
      ],
      "metadata": {
        "id": "NrO65p8-ElY-"
      },
      "execution_count": null,
      "outputs": []
    },
    {
      "cell_type": "code",
      "source": [
        "sns.distplot(v1['ct_dst_ltm'].apply(np.log1p), label='normal', hist=False, rug=True)\n",
        "sns.distplot(v2['ct_dst_ltm'].apply(np.log1p), label='anomaly', hist=False, rug=True)"
      ],
      "metadata": {
        "colab": {
          "base_uri": "https://localhost:8080/",
          "height": 456
        },
        "id": "38DveliEF_kx",
        "outputId": "7a7805ce-e3b0-4a5f-e71a-d994d833754f"
      },
      "execution_count": null,
      "outputs": [
        {
          "output_type": "stream",
          "name": "stderr",
          "text": [
            "/usr/local/lib/python3.7/dist-packages/seaborn/distributions.py:2619: FutureWarning: `distplot` is a deprecated function and will be removed in a future version. Please adapt your code to use either `displot` (a figure-level function with similar flexibility) or `kdeplot` (an axes-level function for kernel density plots).\n",
            "  warnings.warn(msg, FutureWarning)\n",
            "/usr/local/lib/python3.7/dist-packages/seaborn/distributions.py:2103: FutureWarning: The `axis` variable is no longer used and will be removed. Instead, assign variables directly to `x` or `y`.\n",
            "  warnings.warn(msg, FutureWarning)\n",
            "/usr/local/lib/python3.7/dist-packages/seaborn/distributions.py:2619: FutureWarning: `distplot` is a deprecated function and will be removed in a future version. Please adapt your code to use either `displot` (a figure-level function with similar flexibility) or `kdeplot` (an axes-level function for kernel density plots).\n",
            "  warnings.warn(msg, FutureWarning)\n",
            "/usr/local/lib/python3.7/dist-packages/seaborn/distributions.py:2103: FutureWarning: The `axis` variable is no longer used and will be removed. Instead, assign variables directly to `x` or `y`.\n",
            "  warnings.warn(msg, FutureWarning)\n"
          ]
        },
        {
          "output_type": "execute_result",
          "data": {
            "text/plain": [
              "<matplotlib.axes._subplots.AxesSubplot at 0x7f3952278190>"
            ]
          },
          "metadata": {},
          "execution_count": 61
        },
        {
          "output_type": "display_data",
          "data": {
            "image/png": "[encoded data removed]",
            "text/plain": [
              "<Figure size 432x288 with 1 Axes>"
            ]
          },
          "metadata": {}
        }
      ]
    },
    {
      "cell_type": "markdown",
      "source": [
        "## Dpkts\n",
        "* Range of values for this feature is around 10,000\n",
        "* Non-attck cat values are very close to 0. In log scale its upto 5.\n",
        "* Attack cat values are widely distributed and has higher fraction around 2 and 3 in log1p graph"
      ],
      "metadata": {
        "id": "NbNZKvSrSRtH"
      }
    },
    {
      "cell_type": "code",
      "source": [
        "dpkts_normal = spark.sql(\"select \"'dpkts'\",\"'label'\" from UNSWs where label == 0\")"
      ],
      "metadata": {
        "id": "pfDU8OmlSY6Y"
      },
      "execution_count": 118,
      "outputs": []
    },
    {
      "cell_type": "code",
      "source": [
        "dpkts_anomaly = spark.sql(\"select \"'dpkts'\",\"'label'\" from UNSWs where label == 1\")"
      ],
      "metadata": {
        "id": "d3Uq523eSY6Z"
      },
      "execution_count": 119,
      "outputs": []
    },
    {
      "cell_type": "code",
      "source": [
        "d1 = dpkts_normal.toPandas()\n",
        "d2 = dpkts_anomaly.toPandas()"
      ],
      "metadata": {
        "id": "XYlFD4jYSY6Z"
      },
      "execution_count": 121,
      "outputs": []
    },
    {
      "cell_type": "markdown",
      "source": [
        "## Normal"
      ],
      "metadata": {
        "id": "pmjDs-UOSnUI"
      }
    },
    {
      "cell_type": "code",
      "source": [
        "sns.distplot(d1['dpkts'], label='normal', hist=False, rug=True)\n",
        "sns.distplot(d2['dpkts'], label='anomaly', hist=False, rug=True)"
      ],
      "metadata": {
        "id": "_N1ZvktVSlLc"
      },
      "execution_count": null,
      "outputs": []
    },
    {
      "cell_type": "markdown",
      "source": [
        "## Log1p"
      ],
      "metadata": {
        "id": "7X0cTj3FSloT"
      }
    },
    {
      "cell_type": "code",
      "source": [
        "sns.distplot(d1['dpkts'].apply(np.log1p), label='normal', hist=False, rug=True)\n",
        "sns.distplot(d2['dpkts'].apply(np.log1p), label='anomaly', hist=False, rug=True)"
      ],
      "metadata": {
        "colab": {
          "base_uri": "https://localhost:8080/",
          "height": 464
        },
        "outputId": "42116b2d-3968-40fd-d2cc-c1138c674cf8",
        "id": "BpY2qczSSY6Z"
      },
      "execution_count": 126,
      "outputs": [
        {
          "output_type": "stream",
          "name": "stderr",
          "text": [
            "/usr/local/lib/python3.7/dist-packages/seaborn/distributions.py:2619: FutureWarning: `distplot` is a deprecated function and will be removed in a future version. Please adapt your code to use either `displot` (a figure-level function with similar flexibility) or `kdeplot` (an axes-level function for kernel density plots).\n",
            "  warnings.warn(msg, FutureWarning)\n",
            "/usr/local/lib/python3.7/dist-packages/seaborn/distributions.py:2103: FutureWarning: The `axis` variable is no longer used and will be removed. Instead, assign variables directly to `x` or `y`.\n",
            "  warnings.warn(msg, FutureWarning)\n",
            "/usr/local/lib/python3.7/dist-packages/seaborn/distributions.py:2619: FutureWarning: `distplot` is a deprecated function and will be removed in a future version. Please adapt your code to use either `displot` (a figure-level function with similar flexibility) or `kdeplot` (an axes-level function for kernel density plots).\n",
            "  warnings.warn(msg, FutureWarning)\n",
            "/usr/local/lib/python3.7/dist-packages/seaborn/distributions.py:2103: FutureWarning: The `axis` variable is no longer used and will be removed. Instead, assign variables directly to `x` or `y`.\n",
            "  warnings.warn(msg, FutureWarning)\n"
          ]
        },
        {
          "output_type": "execute_result",
          "data": {
            "text/plain": [
              "<matplotlib.axes._subplots.AxesSubplot at 0x7f5357f7a650>"
            ]
          },
          "metadata": {},
          "execution_count": 126
        },
        {
          "output_type": "display_data",
          "data": {
            "image/png": "[encoded data removed]",
            "text/plain": [
              "<Figure size 432x288 with 1 Axes>"
            ]
          },
          "metadata": {}
        }
      ]
    },
    {
      "cell_type": "markdown",
      "source": [
        "## Correlation"
      ],
      "metadata": {
        "id": "UTsSNsQpDN_9"
      }
    },
    {
      "cell_type": "code",
      "source": [
        "from pyspark.ml.stat import Correlation\n",
        "from pyspark.ml.feature import VectorAssembler"
      ],
      "metadata": {
        "id": "IJoRJxRoDPXf"
      },
      "execution_count": 20,
      "outputs": []
    },
    {
      "cell_type": "code",
      "source": [
        "UNSW.printSchema()"
      ],
      "metadata": {
        "id": "J9-bPd0xIFZq",
        "colab": {
          "base_uri": "https://localhost:8080/"
        },
        "outputId": "86179f25-a933-4abb-b7ed-a52dd0bae3cc"
      },
      "execution_count": 21,
      "outputs": [
        {
          "output_type": "stream",
          "name": "stdout",
          "text": [
            "root\n",
            " |-- srcip: string (nullable = true)\n",
            " |-- sport: integer (nullable = true)\n",
            " |-- dstip: string (nullable = true)\n",
            " |-- dsport: integer (nullable = true)\n",
            " |-- proto: string (nullable = true)\n",
            " |-- state: string (nullable = true)\n",
            " |-- dur: double (nullable = true)\n",
            " |-- sbytes: integer (nullable = true)\n",
            " |-- dbytes: integer (nullable = true)\n",
            " |-- sttl: integer (nullable = true)\n",
            " |-- dttl: integer (nullable = true)\n",
            " |-- sloss: integer (nullable = true)\n",
            " |-- dloss: integer (nullable = true)\n",
            " |-- service: string (nullable = true)\n",
            " |-- Sload: double (nullable = true)\n",
            " |-- Dload: double (nullable = true)\n",
            " |-- Spkts: integer (nullable = true)\n",
            " |-- Dpkts: integer (nullable = true)\n",
            " |-- swin: integer (nullable = true)\n",
            " |-- dwin: integer (nullable = true)\n",
            " |-- stcpb: long (nullable = true)\n",
            " |-- dtcpb: long (nullable = true)\n",
            " |-- smeansz: integer (nullable = true)\n",
            " |-- dmeansz: integer (nullable = true)\n",
            " |-- trans_depth: integer (nullable = true)\n",
            " |-- res_bdy_len: integer (nullable = true)\n",
            " |-- Sjit: double (nullable = true)\n",
            " |-- Djit: double (nullable = true)\n",
            " |-- Stime: integer (nullable = true)\n",
            " |-- Ltime: integer (nullable = true)\n",
            " |-- Sintpkt: double (nullable = true)\n",
            " |-- Dintpkt: double (nullable = true)\n",
            " |-- tcprtt: double (nullable = true)\n",
            " |-- synack: double (nullable = true)\n",
            " |-- ackdat: double (nullable = true)\n",
            " |-- is_sm_ips_ports: integer (nullable = true)\n",
            " |-- ct_state_ttl: integer (nullable = true)\n",
            " |-- ct_flw_http_mthd: integer (nullable = true)\n",
            " |-- is_ftp_login: integer (nullable = true)\n",
            " |-- ct_ftp_cmd: integer (nullable = true)\n",
            " |-- ct_srv_src: integer (nullable = true)\n",
            " |-- ct_srv_dst: integer (nullable = true)\n",
            " |-- ct_dst_ltm: integer (nullable = true)\n",
            " |-- ct_src_ ltm: integer (nullable = true)\n",
            " |-- ct_src_dport_ltm: integer (nullable = true)\n",
            " |-- ct_dst_sport_ltm: integer (nullable = true)\n",
            " |-- ct_dst_src_ltm: integer (nullable = true)\n",
            " |-- attack_cat: string (nullable = false)\n",
            " |-- Label: integer (nullable = true)\n",
            "\n"
          ]
        }
      ]
    },
    {
      "cell_type": "code",
      "source": [
        "columns_to_drop = ['dstip', 'proto','state','service','attack_cat','srcip']\n",
        "corr_df = UNSW.drop(*columns_to_drop)"
      ],
      "metadata": {
        "id": "0Bu2OygOIOOo"
      },
      "execution_count": 22,
      "outputs": []
    },
    {
      "cell_type": "code",
      "source": [
        "vector_col = \"corr_features\"\n",
        "assembler = VectorAssembler(inputCols=corr_df.columns, outputCol=vector_col)\n",
        "df_vector = assembler.transform(corr_df).select(vector_col)"
      ],
      "metadata": {
        "id": "eFMXKTafGWTK"
      },
      "execution_count": 23,
      "outputs": []
    },
    {
      "cell_type": "code",
      "source": [
        "matrix = Correlation.corr(df_vector, vector_col)"
      ],
      "metadata": {
        "colab": {
          "base_uri": "https://localhost:8080/"
        },
        "id": "wsJWwdNDIpkP",
        "outputId": "b0c96d94-ad7e-44e9-9a8e-b33f0613ae9d"
      },
      "execution_count": 24,
      "outputs": [
        {
          "output_type": "stream",
          "name": "stderr",
          "text": [
            "/usr/local/lib/python3.7/dist-packages/pyspark/sql/context.py:127: FutureWarning: Deprecated in 3.0.0. Use SparkSession.builder.getOrCreate() instead.\n",
            "  FutureWarning\n"
          ]
        }
      ]
    },
    {
      "cell_type": "code",
      "source": [
        "correlation = Correlation.corr(df_vector,vector_col,\"pearson\").collect()[0][0]"
      ],
      "metadata": {
        "colab": {
          "base_uri": "https://localhost:8080/"
        },
        "id": "St73BK9iJkv9",
        "outputId": "c9a4e1f3-5c79-49ec-c7ce-298d7c8bc826"
      },
      "execution_count": 25,
      "outputs": [
        {
          "output_type": "stream",
          "name": "stderr",
          "text": [
            "/usr/local/lib/python3.7/dist-packages/pyspark/sql/context.py:127: FutureWarning: Deprecated in 3.0.0. Use SparkSession.builder.getOrCreate() instead.\n",
            "  FutureWarning\n"
          ]
        }
      ]
    },
    {
      "cell_type": "code",
      "source": [
        "rows = correlation.toArray().tolist()\n",
        "dfs = spark.createDataFrame(rows,corr_df.columns)"
      ],
      "metadata": {
        "id": "nTfpHgV8Il4s"
      },
      "execution_count": 26,
      "outputs": []
    },
    {
      "cell_type": "code",
      "source": [
        "dfs.show()"
      ],
      "metadata": {
        "colab": {
          "base_uri": "https://localhost:8080/"
        },
        "id": "VsNUEX2rK4xE",
        "outputId": "51457aca-9edd-437a-f506-67ca6b7f5b80"
      },
      "execution_count": null,
      "outputs": [
        {
          "output_type": "stream",
          "name": "stdout",
          "text": [
            "+--------------------+--------------------+--------------------+--------------------+--------------------+--------------------+--------------------+--------------------+--------------------+--------------------+--------------------+--------------------+--------------------+--------------------+--------------------+--------------------+--------------------+--------------------+--------------------+--------------------+--------------------+--------------------+--------------------+--------------------+--------------------+--------------------+--------------------+--------------------+--------------------+--------------------+--------------------+--------------------+--------------------+--------------------+--------------------+--------------------+--------------------+--------------------+--------------------+--------------------+--------------------+--------------------+--------------------+\n",
            "|               sport|              dsport|                 dur|              sbytes|              dbytes|                sttl|                dttl|               sloss|               dloss|               Sload|               Dload|               Spkts|               Dpkts|                swin|                dwin|               stcpb|               dtcpb|             smeansz|             dmeansz|         trans_depth|         res_bdy_len|                Sjit|                Djit|               Stime|               Ltime|             Sintpkt|             Dintpkt|              tcprtt|              synack|              ackdat|     is_sm_ips_ports|        ct_state_ttl|    ct_flw_http_mthd|        is_ftp_login|          ct_ftp_cmd|          ct_srv_src|          ct_srv_dst|          ct_dst_ltm|         ct_src_ ltm|    ct_src_dport_ltm|    ct_dst_sport_ltm|      ct_dst_src_ltm|               Label|\n",
            "+--------------------+--------------------+--------------------+--------------------+--------------------+--------------------+--------------------+--------------------+--------------------+--------------------+--------------------+--------------------+--------------------+--------------------+--------------------+--------------------+--------------------+--------------------+--------------------+--------------------+--------------------+--------------------+--------------------+--------------------+--------------------+--------------------+--------------------+--------------------+--------------------+--------------------+--------------------+--------------------+--------------------+--------------------+--------------------+--------------------+--------------------+--------------------+--------------------+--------------------+--------------------+--------------------+--------------------+\n",
            "|                 1.0| 0.08663465273451673|-0.01559980546234...|0.005539006189003469| 0.02508659047225891|-0.14944120179178008| 0.10543046439475148| 0.02360389236790596|0.031847682659648525|-0.10969275328739216|0.061920308698434116|0.041695908272067775|0.038318384461688185|  0.1391577328411598| 0.13879034314847308| 0.10424569198265966|  0.1038077710185535|0.020078079227469153| 0.08985090364755918|0.028792421896826938| 0.00980853581657165|0.018414206586607917|0.021512127584043816|-0.07374913121153115|-0.07374945165899005|-0.09060936563561095|-0.06007688006222603|0.045324078991056775| 0.04289720950862374| 0.04090455334570365|-0.06066069757182043|-0.14661145588048927| 0.03080205841975331|0.013641224244807404|0.008903348654921983|-0.14106507322589207|-0.14385038046464368| -0.1406474793105823|-0.14058638507791313|-0.15656949941311865|-0.18084679834960757|  -0.158817859954622|-0.14991050243733167|\n",
            "| 0.08663465273451673|                 1.0|-0.01992710949753...|-0.01037302645596...|-0.01201597332778...|-0.24081668871850695|-0.00413930699440259|0.014626528941881631|0.003139595425849...| -0.1788605896711406|  0.5104109565550093| 0.05371079479719586| 0.00937490489925049| 0.38640219640851625|  0.3832064181216097| 0.28482099034850145| 0.28582379113231837|-0.03917627608265349|  0.3773235159855003|-0.14358207631302045|-0.05398411678793858|-0.03541965517896...|-0.08934207953171729|-0.12477614567481118| -0.1247764649870222|-0.03968501651824...|-0.02983394262766...| -0.0469256964585231|-0.04145694081884619|-0.04555166256132263|-0.02467003509044...|-0.20488552408463748|-0.11948560563826062|-0.07907910140427264|-0.06782341480208547|-0.14997168451423176|-0.16778597175628246| -0.2004858874810093| -0.1889334419742654|-0.24828829712636558| -0.2469669223362374|-0.24232399939598165|-0.21654379062096574|\n",
            "|-0.01559980546234...|-0.01992710949753...|                 1.0|0.033268690039009764| 0.08696993506732467|-0.00365316161543...|0.010704417127227776| 0.04149206848982568| 0.08771179946649603|-0.01471326029701...|-0.02250584258784717| 0.08808036450880238|  0.0893669603306812|0.011120781997466698|0.010651678726149276|0.007742123875845...|0.007786785650714509|-0.00315829653919...|  0.0358195244390261| 0.01654281687026978| 0.04387209994533038| 0.03318525046966023| 0.04801862239684692|-0.00561899318524...|-0.00560665231915...|  0.0716918626522056| 0.09715133694524938|0.011355429263745616|0.010582376268960724|0.010426903609117529|0.006095499454005889|0.010420655471433346|0.014119070497768057|0.007082768305532899|0.006410316056068908|-0.01928051465426...|-0.01843314306863...|-0.01380066467945...|-0.01587460582712...|-0.01310572835725...|-0.01131000658702...|-0.01608970063978...|0.001957053188153...|\n",
            "|0.005539006189003469|-0.01037302645596...|0.033268690039009764|                 1.0|0.047025532784868776|-0.00892462338425...| 0.06641966270178198|  0.9534933513144015| 0.05118082290464495|-0.02098714918919...|-0.00679055437174...|  0.6028423850488225| 0.10974678112520045|0.059774181292354324| 0.05993926082048174| 0.04479545941996338|  0.0442184952261346| 0.18794719127506176|0.016013846645260503|4.616733347208129E-4|0.020545113261042927|0.001392435953857...|0.001494022291290...| -0.0066778340640111|-0.00667742988236...|-0.00474429398100...|-0.00271133083672...| 0.02718424917868481|0.023593837796285426|0.026845683982405232|-0.00309439231028...|-0.00333272463386...|-0.00288121039835...|-0.00336066273248...|-0.00288028117533...|-0.03512107514512...| -0.0351594506989402|-0.02799873313929...|-0.02765505524943...|-0.02793249551856793|-0.02803707616909...|-0.03110887446207...|0.010177227934804932|\n",
            "| 0.02508659047225891|-0.01201597332778...| 0.08696993506732467|0.047025532784868776|                 1.0|-0.09418029406295961|0.009103728546020429| 0.11553003769892578|  0.9913420907163287|-0.06997697016482657| 0.08379677482068196|   0.727073662266144|  0.9708089992745786| 0.18843448301393584|  0.1889597422926195|  0.1397837827796126| 0.14011809801156255|-0.09393471201471015|  0.5933525457606408| 0.11548263591673945|  0.5606288281838642|0.028187467700627054| 0.12716528483669076|-0.05256900477284175|-0.05256796818326...|-0.01419478790122...| -0.0108904364739843|-0.01707889198893...|-0.01567451645022...|-0.01594411858299...|-0.00919822019528043|-0.07955742432172266| 0.08041483214439962|-0.02648384502900...|-0.02270739290774226|-0.05152190579322...|-0.05201667942457...|-0.06030147959000581| -0.0652755858735322|-0.06621667595244929|-0.07203298223447177| -0.0798907636379653|-0.07555441622993002|\n",
            "|-0.14944120179178008|-0.24081668871850695|-0.00365316161543...|-0.00892462338425...|-0.09418029406295961|                 1.0| 0.11399364834314261|-0.06943538011968278|-0.11865574529617451|  0.2800941238889201|-0.24682454613417476|-0.15079560311748708| -0.1417285454710664|-0.35227491946372613| -0.3579246510336863| -0.2662539115987435|-0.26640622172774264|-0.05638725552468...|-0.33301633751674015|-0.06236572181086...|-0.03678496314040696| 0.04350437212332973|-0.07372731322306214| 0.31322168747508955|  0.3132216264319067|-0.04402525624318...|-0.02579460880058466|  0.2129027427240151| 0.19269801247901758| 0.20167894395251054|-0.03398803587137675|  0.9060746751965445|-0.05665802910523756|-0.04976861070741...|-0.04343427906683...|  0.4555564484186395| 0.45811260561027073|   0.394238231533577| 0.39549643073259433|  0.4566823772796712| 0.47810355067400906|  0.5136676195490494|  0.9044106464509674|\n",
            "| 0.10543046439475148|-0.00413930699440259|0.010704417127227776| 0.06641966270178198|0.009103728546020429| 0.11399364834314261|                 1.0| 0.07666998948547524|0.013898806275297694|-0.21916377581882762|-0.02211790357792...| 0.04628444318641102| 0.01992320300645735| 0.30524802253365985|  0.3068748797264883|  0.2284291270568539|   0.228018013969079| 0.09876565181013072|0.046674766650354076| 0.11784942906926744|0.007926275446876218|  0.1604649352274585|0.046738915785996114|-0.00154742373870...|-0.00154735007150...|-0.03390598070255...|3.286550026851986E-4|  0.5680163255416253|  0.5188020482841166|  0.5329908468925897|-0.02920746769475127| 0.04076953173098464| 0.10259391474733105|0.028128549523772438|0.019643769963727235| -0.3014761635455524| -0.3089969335027294| -0.2873659395987806|-0.27879911339047736| -0.2748826902283118|-0.28778516150085637| -0.2901981495327773| 0.13492106146722813|\n",
            "| 0.02360389236790596|0.014626528941881631| 0.04149206848982568|  0.9534933513144015| 0.11553003769892578|-0.06943538011968278| 0.07666998948547524|                 1.0| 0.15332145826699575|-0.06891602464447671| 0.04670966172794494|  0.7255107677316049| 0.23735588528736368| 0.19172020592290726|  0.1919753545844682| 0.14294826141170225| 0.14274862716038716| 0.15745584178960043| 0.09244726071802178|-0.02070140920613...|-0.01235054428970...|0.006262573817399347|0.022510901703435903|-0.03986795059799...|-0.03986746648251166|-0.01452804739218...|-0.00942424101624...|0.019758815536689775|0.017502312680689983| 0.01913021460496028|-0.00932578681467...|-0.05802981083291406|-0.01939931391692...|0.032256238922115356|0.027711841276420523|-0.08151926564518669|-0.08302769085867441|-0.07929714537693708|-0.07908623578818717|-0.08549432991377891|-0.08746790692026553|-0.09425996406201347|-0.04328304858266053|\n",
            "|0.031847682659648525|0.003139595425849...| 0.08771179946649603| 0.05118082290464495|  0.9913420907163287|-0.11865574529617451|0.013898806275297694| 0.15332145826699575|                 1.0|-0.08883201352441919| 0.10881840581363263|  0.7664659581344619|  0.9921626706759259| 0.24121191436932485| 0.24188173142358146| 0.17916549813008759| 0.17968434345343218| -0.0930811957508656|  0.6039467296035361| 0.10096206804919375|  0.5384728222499715| 0.02656221420493463| 0.12436468672441402|-0.06504052031147975|-0.06503948252884975|-0.01826310290595619|-0.01380360332905956|-0.01999071982690...|-0.01821949929796863|-0.01880046746351759|-0.01173692415999...|-0.10117564102738508| 0.06905156335168836|-0.00397877016230...|-0.00336841212018...|-0.07303122951121316|-0.07439367880927834|-0.08191575325388994|-0.08634726263430893|-0.09053350183878704|-0.09645030580444154|-0.10616850311069441|-0.09586938316123901|\n",
            "|-0.10969275328739216| -0.1788605896711406|-0.01471326029701...|-0.02098714918919...|-0.06997697016482657|  0.2800941238889201|-0.21916377581882762|-0.06891602464447671|-0.08883201352441919|                 1.0|-0.17458374167705215|-0.12502690455284124| -0.1078554216127624|-0.36031876083647274|-0.36072562386251056| -0.2680674228155669|-0.26830274571839635| 0.05718789175547186| -0.2524344649915943| -0.0738057709675936|-0.02778347449635274|-0.02899848275031...|-0.06609543365151754| 0.23855050700842656| 0.23855033925178964|-0.02013960013784826|-0.01711190166812...|-0.04159253047779828|-0.03933981344815741|-0.03756464940287283|-0.01266344883988...| 0.21682779049152723|-0.06140707191098611|-0.04026843469958464|-0.03453776828880717| 0.47310478599715555|  0.4786932287136327|  0.4283921530739696|  0.4187977851694596| 0.47329399909099573|  0.4890812982399339|  0.5130604050887566| 0.19231503818252002|\n",
            "|0.061920308698434116|  0.5104109565550093|-0.02250584258784717|-0.00679055437174...| 0.08379677482068196|-0.24682454613417476|-0.02211790357792...| 0.04670966172794494| 0.10881840581363263|-0.17458374167705215|                 1.0| 0.16706285722288663|  0.1195728016341709|  0.4218134050006038|  0.4231688609298559|  0.3142254493851656| 0.31529121907468716|-0.19551190831997128|   0.569168594344945|-0.11007639782624959|0.010481096752618003| -0.0507481414567466|-0.10876247314467734|-0.12285375038662139|-0.12285410177432264|-0.03991633356548323|-0.03125327306939705| -0.0679544142763911|-0.06025757235500588|-0.06572353067763148|-0.02359781446009...|-0.22127322240708036| -0.0934870838271448|-0.06693200196646033|-0.05743707882310499|-0.14815568215152633|-0.17276435684158917|-0.21636012822656486|-0.19409405320818315| -0.2342953012024346|-0.23592383592211333| -0.2547045993202523|-0.21974337223617058|\n",
            "|0.041695908272067775| 0.05371079479719586| 0.08808036450880238|  0.6028423850488225|   0.727073662266144|-0.15079560311748708| 0.04628444318641102|  0.7255107677316049|  0.7664659581344619|-0.12502690455284124| 0.16706285722288663|                 1.0|  0.8225776151624578| 0.33644611901228527| 0.33733989317415575| 0.25048866264534964|   0.250984224580865|0.017435858509702425|  0.5218078799379109| 0.03895669322566142|  0.3407983301319032| 0.01807917703977658|  0.0899686456243511|-0.08485691984488396|-0.08485587949912027|-0.02590143774104...|-0.01841476219094...|-0.01301550174418...|-0.01145320540085612|-0.01268363015604227|-0.01718642922822...|-0.13162888187041905|  0.0206176891494946| 0.02902900620076171|0.025097041454165164|-0.12107204862847368|-0.12533054865214155|-0.13090836583827245|-0.13206573934901264|-0.14308785634493001|-0.14767782805567684|-0.16206713998228514|-0.12090114509454243|\n",
            "|0.038318384461688185| 0.00937490489925049|  0.0893669603306812| 0.10974678112520045|  0.9708089992745786| -0.1417285454710664| 0.01992320300645735| 0.23735588528736368|  0.9921626706759259| -0.1078554216127624|  0.1195728016341709|  0.8225776151624578|                 1.0|  0.2844478145404081|   0.285265812971577|  0.2114931407895537| 0.21207711193895454|-0.07329451606729152|  0.6033814029423842|  0.0891427767295733| 0.49962927109792676|0.027072856445129447| 0.12728622189540104|-0.07832522282298823|-0.07832416765592669|-0.02179921720043...|-0.01556611672758...|-0.02248982067166615|-0.02029909395104...|-0.02136530435116...|-0.01430459366252...|-0.12274555702056673|0.060127744670977416|0.010059234586529608|0.008775082856939375|-0.09545572274212046|-0.09719371137480919|-0.10366328701062712|-0.10771264057084577|-0.11470572208504197|-0.12135406689266115|-0.13248756320104815|-0.11596549181304919|\n",
            "|  0.1391577328411598| 0.38640219640851625|0.011120781997466698|0.059774181292354324| 0.18843448301393584|-0.35227491946372613| 0.30524802253365985| 0.19172020592290726| 0.24121191436932485|-0.36031876083647274|  0.4218134050006038| 0.33644611901228527|  0.2844478145404081|                 1.0|  0.9972069954008567|  0.7417289479259508|  0.7417315204058532| 0.15020448982107867|  0.5801284816894823| 0.19884990487384346| 0.07465086654009559| 0.07612900588451214|  0.1687149612936913|-0.21388135023978969|-0.21388136098527258|-0.07023166423035546|-0.04144954645745738| 0.11180459700999515| 0.10579843339649538|  0.1009238287752511|-0.04852068841855783|-0.32750015581699293| 0.16538379402224232| 0.10869039676501076| 0.09322000040290396| -0.4183097729186774| -0.4334496546400999|-0.40540754564070497| -0.3914258336109482|-0.44900822354345343| -0.4730787513081065| -0.4813159263537557|-0.31519376900118234|\n",
            "| 0.13879034314847308|  0.3832064181216097|0.010651678726149276| 0.05993926082048174|  0.1889597422926195| -0.3579246510336863|  0.3068748797264883|  0.1919753545844682| 0.24188173142358146|-0.36072562386251056|  0.4231688609298559| 0.33733989317415575|   0.285265812971577|  0.9972069954008567|                 1.0|  0.7431216172756914|  0.7434640430226039|  0.1509304320538877|  0.5820647297752286| 0.19940225872429748| 0.07485825348405035| 0.07618146519424217| 0.16921232910868936|-0.21475754990153453|-0.21475756627546738| -0.0706333638757317|-0.04127896595314...| 0.11212661948046702| 0.10614304539684075| 0.10117131037998729|-0.04852368487290...| -0.3467042195343302|  0.1658431908149995| 0.10899230662691343| 0.09347893806686915| -0.4190402955973548|-0.43397937286482685|-0.40532077780799064| -0.3911812744680884| -0.4477070700453098| -0.4718133213856717| -0.4823702336942582| -0.3140047290535458|\n",
            "| 0.10424569198265966| 0.28482099034850145|0.007742123875845...| 0.04479545941996338|  0.1397837827796126| -0.2662539115987435|  0.2284291270568539| 0.14294826141170225| 0.17916549813008759| -0.2680674228155669|  0.3142254493851656| 0.25048866264534964|  0.2114931407895537|  0.7417289479259508|  0.7431216172756914|                 1.0|  0.6486697367859305| 0.11231087412089626| 0.43233062308804215| 0.14900619997079853| 0.05473781281096818| 0.05685293563217517| 0.12812131587252798|-0.15906280513721094| -0.1590628190788437|-0.05249466229657...|-0.03058405421646509| 0.08364366650987903| 0.07906487663023443| 0.07559603922430001|-0.03600227183516758|-0.25770975654767164| 0.12464757417008472|  0.0802049520768216| 0.06886492471647405|-0.31206440483363157|-0.32307043416445447|-0.30182595428612724| -0.2914114707876461| -0.3332432465554246| -0.3511167224417083| -0.3589601055942058|-0.23347625706696043|\n",
            "|  0.1038077710185535| 0.28582379113231837|0.007786785650714509|  0.0442184952261346| 0.14011809801156255|-0.26640622172774264|   0.228018013969079| 0.14274862716038716| 0.17968434345343218|-0.26830274571839635| 0.31529121907468716|   0.250984224580865| 0.21207711193895454|  0.7417315204058532|  0.7434640430226039|  0.6486697367859305|                 1.0| 0.11210508461546892|   0.433132187237534| 0.14743733752336036|0.056066331384788025| 0.05608759420136671| 0.12482684648473676|-0.15878052896278877|-0.15878054295095603|-0.05258819179341...|-0.03084568845634...| 0.08353834700538791| 0.07935175404843489| 0.07508232413543992| -0.0360922910095984| -0.2578879861793988| 0.12441082095192763| 0.08088787193453391| 0.07051511667489195|  -0.311630681801576| -0.3228574588625811|-0.30162518344225386|-0.29101526644879033|  -0.333205884499907|-0.35111749224312994|-0.35874905020116366|-0.23356667710334103|\n",
            "|0.020078079227469153|-0.03917627608265349|-0.00315829653919...| 0.18794719127506176|-0.09393471201471015|-0.05638725552468...| 0.09876565181013072| 0.15745584178960043| -0.0930811957508656| 0.05718789175547186|-0.19551190831997128|0.017435858509702425|-0.07329451606729152| 0.15020448982107867|  0.1509304320538877| 0.11231087412089626| 0.11210508461546892|                 1.0|-0.22306170476514212| 0.00466323015092477|-0.03931048285319078| 0.00449920694730653|-0.02173958467263...|-0.01798886000937...|-0.01798894047747...|-0.03150571370097...|-0.02225532038416803| 0.04155256222612355|0.038062377674231214| 0.03887114819755925|-0.02095267982981...|-0.07189704807836635|-0.00226631331863...|-0.05784432178473734|-0.04968317085367083| -0.1085459299990652| -0.1032279581524209|-0.05162392298554462| -0.0545638184801097| -0.0677971985296924|-0.06625851936719847|-0.05998103808555...|-0.06536361979907565|\n",
            "| 0.08985090364755918|  0.3773235159855003|  0.0358195244390261|0.016013846645260503|  0.5933525457606408|-0.33301633751674015|0.046674766650354076| 0.09244726071802178|  0.6039467296035361| -0.2524344649915943|   0.569168594344945|  0.5218078799379109|  0.6033814029423842|  0.5801284816894823|  0.5820647297752286| 0.43233062308804215|   0.433132187237534|-0.22306170476514212|                 1.0| 0.21173233539243339|  0.2985686932653848| 0.03263113277788655| 0.22182026018461182|-0.17267464771374774|-0.17267430947830986|-0.04838451570910...|-0.03126710519305...|  -0.052060062367095|-0.04667283766409...|-0.04979932295561503|-0.03353484076913626|-0.29143246460827993| 0.17016614193710905|-0.08039128482972878|-0.06896087963377356| -0.2585843324641888| -0.2767352693851295|-0.28711135967336215| -0.2778544526478689| -0.3109560437774273|-0.32048436637220507| -0.3449039158518088| -0.2724486534792962|\n",
            "|0.028792421896826938|-0.14358207631302045| 0.01654281687026978|4.616733347208129E-4| 0.11548263591673945|-0.06236572181086...| 0.11784942906926744|-0.02070140920613...| 0.10096206804919375| -0.0738057709675936|-0.11007639782624959| 0.03895669322566142|  0.0891427767295733| 0.19884990487384346| 0.19940225872429748| 0.14900619997079853| 0.14743733752336036| 0.00466323015092477| 0.21173233539243339|                 1.0| 0.23382596608272965|  0.0865407166805532| 0.35295512557334535|-0.03190636638629138|-0.03190618968711626| -0.0097725371931001|-0.00291655569427...| 0.03892165702563938| 0.03323367343544359|   0.039029701934803|-0.00967576906243...|-0.05496765563750...|  0.5760864472381779|-0.03092936249114...|-0.02652704626844...|-0.14581417956027248| -0.1429038722298387|-0.08871683957175727|-0.08958029738315254| -0.0876914640648518|-0.08932678425780327|-0.10591431711214469|-0.02905202808417681|\n",
            "+--------------------+--------------------+--------------------+--------------------+--------------------+--------------------+--------------------+--------------------+--------------------+--------------------+--------------------+--------------------+--------------------+--------------------+--------------------+--------------------+--------------------+--------------------+--------------------+--------------------+--------------------+--------------------+--------------------+--------------------+--------------------+--------------------+--------------------+--------------------+--------------------+--------------------+--------------------+--------------------+--------------------+--------------------+--------------------+--------------------+--------------------+--------------------+--------------------+--------------------+--------------------+--------------------+--------------------+\n",
            "only showing top 20 rows\n",
            "\n"
          ]
        }
      ]
    },
    {
      "cell_type": "markdown",
      "source": [
        "## Extracting highly correlated features from the table\n",
        "\n",
        "* sbytes, sloss\n",
        "\n",
        "### 0.95 show that both model are highly positive correlated to each other"
      ],
      "metadata": {
        "id": "DtUyZ6lZL58s"
      }
    },
    {
      "cell_type": "code",
      "source": [
        "df.stat.corr(\"sbytes\", \"sloss\")"
      ],
      "metadata": {
        "colab": {
          "base_uri": "https://localhost:8080/"
        },
        "id": "bHw_vhVkLrj7",
        "outputId": "88af79ed-2494-477f-e6cd-99d4eb6aa2df"
      },
      "execution_count": 91,
      "outputs": [
        {
          "output_type": "execute_result",
          "data": {
            "text/plain": [
              "0.9534933513109177"
            ]
          },
          "metadata": {},
          "execution_count": 91
        }
      ]
    },
    {
      "cell_type": "markdown",
      "source": [
        "* dpkts, dbytes, dloss\n",
        "\n",
        "## All three correlation again shows that features are highly correlated between each others"
      ],
      "metadata": {
        "id": "K4ihNBOQMNa3"
      }
    },
    {
      "cell_type": "code",
      "source": [
        "df.stat.corr(\"dpkts\", \"dbytes\")"
      ],
      "metadata": {
        "colab": {
          "base_uri": "https://localhost:8080/"
        },
        "id": "-n84ez-xMM_n",
        "outputId": "b56f4420-590d-4a2e-b902-c5d6dd81a704"
      },
      "execution_count": 93,
      "outputs": [
        {
          "output_type": "execute_result",
          "data": {
            "text/plain": [
              "0.9708089992713627"
            ]
          },
          "metadata": {},
          "execution_count": 93
        }
      ]
    },
    {
      "cell_type": "code",
      "source": [
        "df.stat.corr(\"dpkts\", \"dloss\")"
      ],
      "metadata": {
        "colab": {
          "base_uri": "https://localhost:8080/"
        },
        "id": "i8mGwc6wMbLM",
        "outputId": "e4da4a8f-e5e1-4de2-8eff-bd6f0e1c9c41"
      },
      "execution_count": 94,
      "outputs": [
        {
          "output_type": "execute_result",
          "data": {
            "text/plain": [
              "0.9921626706722774"
            ]
          },
          "metadata": {},
          "execution_count": 94
        }
      ]
    },
    {
      "cell_type": "code",
      "source": [
        "df.stat.corr(\"dbytes\", \"Sload\")"
      ],
      "metadata": {
        "colab": {
          "base_uri": "https://localhost:8080/"
        },
        "id": "GjMXt8wVMc2U",
        "outputId": "8ab3d723-04c9-403d-e1aa-d05e5a8bcdb1"
      },
      "execution_count": 117,
      "outputs": [
        {
          "output_type": "execute_result",
          "data": {
            "text/plain": [
              "-0.06997697016490562"
            ]
          },
          "metadata": {},
          "execution_count": 117
        }
      ]
    },
    {
      "cell_type": "markdown",
      "source": [
        "## Plotting a pair plot for these three columns"
      ],
      "metadata": {
        "id": "Og9RpoSdOUk4"
      }
    },
    {
      "cell_type": "code",
      "source": [
        "data = spark.sql(\"select \"'dpkts'\",\"'dbytes'\",\"'dloss'\" from UNSWs\")"
      ],
      "metadata": {
        "id": "Q7Ha3lFiObO_"
      },
      "execution_count": 108,
      "outputs": []
    },
    {
      "cell_type": "code",
      "source": [
        "df_data = data.toPandas()"
      ],
      "metadata": {
        "id": "ZRtTw8vjO4pI"
      },
      "execution_count": 110,
      "outputs": []
    },
    {
      "cell_type": "code",
      "source": [
        "sns.set_style('whitegrid')\n",
        "sns.pairplot(df_data, vars=['dpkts', 'dbytes', 'dloss'])\n",
        "plt.show()"
      ],
      "metadata": {
        "colab": {
          "base_uri": "https://localhost:8080/",
          "height": 550
        },
        "id": "AED7siRsOUZA",
        "outputId": "f22382ec-5fe9-4c13-8ae3-710fd47709d5"
      },
      "execution_count": 111,
      "outputs": [
        {
          "output_type": "display_data",
          "data": {
            "image/png": "[encoded data removed]",
            "text/plain": [
              "<Figure size 540x540 with 12 Axes>"
            ]
          },
          "metadata": {}
        }
      ]
    },
    {
      "cell_type": "markdown",
      "source": [
        "## Few More Highly correlated features"
      ],
      "metadata": {
        "id": "5Lybek0dM6ST"
      }
    },
    {
      "cell_type": "markdown",
      "source": [
        "  * sttl, ct_state_ttl\n"
      ],
      "metadata": {
        "id": "bO-GAYEpMn2x"
      }
    },
    {
      "cell_type": "code",
      "source": [
        "df.stat.corr(\"sttl\", \"ct_state_ttl\")"
      ],
      "metadata": {
        "colab": {
          "base_uri": "https://localhost:8080/"
        },
        "id": "PhfHSwqlMnaa",
        "outputId": "517fd959-7f8e-4222-b9ba-eacb9c9a18fc"
      },
      "execution_count": 101,
      "outputs": [
        {
          "output_type": "execute_result",
          "data": {
            "text/plain": [
              "0.9060746751961302"
            ]
          },
          "metadata": {},
          "execution_count": 101
        }
      ]
    },
    {
      "cell_type": "markdown",
      "source": [
        "* swin, dwin"
      ],
      "metadata": {
        "id": "tbnd7wKrMqlP"
      }
    },
    {
      "cell_type": "code",
      "source": [
        "df.stat.corr(\"swin\", \"dwin\")"
      ],
      "metadata": {
        "colab": {
          "base_uri": "https://localhost:8080/"
        },
        "id": "J0jA1PpPMpbU",
        "outputId": "2a6cbc93-88b3-428f-a5a5-e6a37db5ab96"
      },
      "execution_count": 99,
      "outputs": [
        {
          "output_type": "execute_result",
          "data": {
            "text/plain": [
              "0.9972069954027378"
            ]
          },
          "metadata": {},
          "execution_count": 99
        }
      ]
    },
    {
      "cell_type": "markdown",
      "source": [
        "\n",
        "\n",
        "\n",
        "* stime, Ltime\n"
      ],
      "metadata": {
        "id": "a-2ysNyXLUtX"
      }
    },
    {
      "cell_type": "code",
      "source": [
        "df.stat.corr(\"stime\", \"Ltime\")"
      ],
      "metadata": {
        "colab": {
          "base_uri": "https://localhost:8080/"
        },
        "id": "JwQtSxCAMruZ",
        "outputId": "a6859cb3-86b0-4ee2-a7c4-44e8d42483e6"
      },
      "execution_count": 97,
      "outputs": [
        {
          "output_type": "execute_result",
          "data": {
            "text/plain": [
              "0.9999999997797562"
            ]
          },
          "metadata": {},
          "execution_count": 97
        }
      ]
    },
    {
      "cell_type": "markdown",
      "source": [
        "* sport, dur"
      ],
      "metadata": {
        "id": "6CNvo_bVQuRd"
      }
    },
    {
      "cell_type": "code",
      "source": [
        "df.stat.corr(\"res_bdy_len\", \"dttl\")             "
      ],
      "metadata": {
        "colab": {
          "base_uri": "https://localhost:8080/"
        },
        "id": "KIqx44qlQbh7",
        "outputId": "13ca6d14-c372-4322-d8a3-627513befcb9"
      },
      "execution_count": 116,
      "outputs": [
        {
          "output_type": "execute_result",
          "data": {
            "text/plain": [
              "0.007926275446871557"
            ]
          },
          "metadata": {},
          "execution_count": 116
        }
      ]
    },
    {
      "cell_type": "markdown",
      "metadata": {
        "id": "MYU1uCxRYWgG"
      },
      "source": [
        "## Binary Classification"
      ]
    },
    {
      "cell_type": "code",
      "metadata": {
        "id": "k1PL6d5k-nNG"
      },
      "source": [
        "# one hot encoding and assembling\n",
        "encoding_var = [i[0] for i in UNSW.dtypes if (i[1]=='string') & (i[0]!='Label')]\n",
        "num_var = [i[0] for i in UNSW.dtypes if ((i[1]=='int') | (i[1]=='double')) & (i[0]!='Label')]\n",
        "\n",
        "'''from string to interger'''\n",
        "string_indexes = [StringIndexer(inputCol = c, outputCol = 'IDX_' + c, handleInvalid = 'keep') for c in encoding_var]\n",
        "'''from interger to binary vectors'''\n",
        "onehot_indexes = [OneHotEncoder(inputCols = ['IDX_' + c], outputCols = ['OHE_' + c]) for c in encoding_var]\n",
        "## The input for the model should be binary vectors\n",
        "assembler = VectorAssembler(inputCols = num_var + ['OHE_' + c for c in encoding_var], outputCol = \"features\")"
      ],
      "execution_count": 27,
      "outputs": []
    },
    {
      "cell_type": "code",
      "metadata": {
        "id": "GfVxPlUD_JqD"
      },
      "source": [
        "fi_pipe = Pipeline(stages = string_indexes + onehot_indexes + [assembler])"
      ],
      "execution_count": 28,
      "outputs": []
    },
    {
      "cell_type": "markdown",
      "metadata": {
        "id": "Xzj0Q2aQ8cPP"
      },
      "source": [
        "## Transforming Dataset"
      ]
    },
    {
      "cell_type": "code",
      "metadata": {
        "id": "7YP6Fi-5-fKk"
      },
      "source": [
        "mod = fi_pipe.fit(UNSW)"
      ],
      "execution_count": 29,
      "outputs": []
    },
    {
      "cell_type": "code",
      "metadata": {
        "id": "w3eBz606ARKe"
      },
      "source": [
        "pred_train = mod.transform(UNSW)"
      ],
      "execution_count": 30,
      "outputs": []
    },
    {
      "cell_type": "markdown",
      "metadata": {
        "id": "-BCZCpqUBUeh"
      },
      "source": [
        "## Training the Model"
      ]
    },
    {
      "cell_type": "code",
      "metadata": {
        "id": "h9IXKnA-BQ8s"
      },
      "source": [
        "finaltrain = pred_train.select(\"features\",\"Label\")"
      ],
      "execution_count": 31,
      "outputs": []
    },
    {
      "cell_type": "code",
      "metadata": {
        "colab": {
          "base_uri": "https://localhost:8080/"
        },
        "id": "WEOqkJmJCmlw",
        "outputId": "db6099cc-d69c-424e-ec6b-23f40dc4a5ac"
      },
      "source": [
        "finaltrain.show(5)"
      ],
      "execution_count": 32,
      "outputs": [
        {
          "output_type": "stream",
          "name": "stdout",
          "text": [
            "+--------------------+-----+\n",
            "|            features|Label|\n",
            "+--------------------+-----+\n",
            "|(307,[0,1,2,3,4,5...|    0|\n",
            "|(307,[0,1,2,3,4,5...|    0|\n",
            "|(307,[0,1,2,3,4,5...|    0|\n",
            "|(307,[0,1,2,3,4,5...|    0|\n",
            "|(307,[0,1,2,3,4,5...|    0|\n",
            "+--------------------+-----+\n",
            "only showing top 5 rows\n",
            "\n"
          ]
        }
      ]
    },
    {
      "cell_type": "markdown",
      "metadata": {
        "id": "ES1MmEJ1BaTg"
      },
      "source": [
        "## RandomForest"
      ]
    },
    {
      "cell_type": "markdown",
      "metadata": {
        "id": "TPr1voSXMW7w"
      },
      "source": [
        "## Train and Test Split\n",
        "\n",
        "* Train Data 80%\n",
        "* Test Data 20% "
      ]
    },
    {
      "cell_type": "code",
      "metadata": {
        "id": "5DR8zci1QBlh"
      },
      "source": [
        "#Split training and testing data\n",
        "train_data,test_data = finaltrain.randomSplit([0.8,0.2])"
      ],
      "execution_count": 33,
      "outputs": []
    },
    {
      "cell_type": "markdown",
      "metadata": {
        "id": "tlHmZ9JORfOU"
      },
      "source": [
        "## Model Training"
      ]
    },
    {
      "cell_type": "code",
      "metadata": {
        "id": "W2KQoh6uReyi"
      },
      "source": [
        "rf = RandomForestClassifier(featuresCol = 'features', labelCol = 'Label')\n",
        "## Train Data\n",
        "rf = rf.fit(train_data)"
      ],
      "execution_count": 34,
      "outputs": []
    },
    {
      "cell_type": "markdown",
      "metadata": {
        "id": "ZdZi8YWiRmkM"
      },
      "source": [
        "## Prediction"
      ]
    },
    {
      "cell_type": "code",
      "metadata": {
        "colab": {
          "base_uri": "https://localhost:8080/"
        },
        "id": "KzVB7AzRRoAl",
        "outputId": "177055e8-e07d-44d7-f6c9-7b2a9464326b"
      },
      "source": [
        "#Prediction on Test Data\n",
        "pred = rf.evaluate(test_data)\n",
        "\n",
        "#Model Prediction\n",
        "pred.predictions.show()"
      ],
      "execution_count": 35,
      "outputs": [
        {
          "output_type": "stream",
          "name": "stderr",
          "text": [
            "/usr/local/lib/python3.7/dist-packages/pyspark/sql/context.py:127: FutureWarning: Deprecated in 3.0.0. Use SparkSession.builder.getOrCreate() instead.\n",
            "  FutureWarning\n"
          ]
        },
        {
          "output_type": "stream",
          "name": "stdout",
          "text": [
            "+--------------------+-----+--------------------+--------------------+----------+\n",
            "|            features|Label|       rawPrediction|         probability|prediction|\n",
            "+--------------------+-----+--------------------+--------------------+----------+\n",
            "|(307,[0,1,2,3,4,5...|    0|[11.4265707037842...|[0.57132853518921...|       0.0|\n",
            "|(307,[0,1,2,3,4,5...|    1|[4.71812695895370...|[0.23590634794768...|       1.0|\n",
            "|(307,[0,1,2,3,4,5...|    1|[3.14020902418251...|[0.15701045120912...|       1.0|\n",
            "|(307,[0,1,2,3,4,5...|    1|[2.64945060109895...|[0.13247253005494...|       1.0|\n",
            "|(307,[0,1,2,3,4,5...|    1|[4.71812695895370...|[0.23590634794768...|       1.0|\n",
            "|(307,[0,1,2,3,4,5...|    1|[3.55246108179416...|[0.17762305408970...|       1.0|\n",
            "|(307,[0,1,2,3,4,5...|    1|[4.08178176780875...|[0.20408908839043...|       1.0|\n",
            "|(307,[0,1,2,3,4,5...|    1|[5.74220893410903...|[0.28711044670545...|       1.0|\n",
            "|(307,[0,1,2,3,4,5...|    1|[4.88487738206208...|[0.24424386910310...|       1.0|\n",
            "|(307,[0,1,2,3,4,5...|    1|[5.71632678916898...|[0.28581633945844...|       1.0|\n",
            "|(307,[0,1,2,3,4,5...|    1|[4.08178176780875...|[0.20408908839043...|       1.0|\n",
            "|(307,[0,1,2,3,4,5...|    1|[2.64945060109895...|[0.13247253005494...|       1.0|\n",
            "|(307,[0,1,2,3,4,5...|    1|[3.59512129667734...|[0.17975606483386...|       1.0|\n",
            "|(307,[0,1,2,3,4,5...|    1|[3.59512129667734...|[0.17975606483386...|       1.0|\n",
            "|(307,[0,1,2,3,4,5...|    1|[3.59512129667734...|[0.17975606483386...|       1.0|\n",
            "|(307,[0,1,2,3,4,5...|    1|[3.83747823619611...|[0.19187391180980...|       1.0|\n",
            "|(307,[0,1,2,3,4,5...|    1|[3.82293651755181...|[0.19114682587759...|       1.0|\n",
            "|(307,[0,1,2,3,4,5...|    1|[4.35777538765252...|[0.21788876938262...|       1.0|\n",
            "|(307,[0,1,2,3,4,5...|    1|[4.88365939615111...|[0.24418296980755...|       1.0|\n",
            "|(307,[0,1,2,3,4,5...|    1|[5.68675501040444...|[0.28433775052022...|       1.0|\n",
            "+--------------------+-----+--------------------+--------------------+----------+\n",
            "only showing top 20 rows\n",
            "\n"
          ]
        }
      ]
    },
    {
      "cell_type": "code",
      "metadata": {
        "colab": {
          "base_uri": "https://localhost:8080/"
        },
        "id": "EaSKKsJIGY0E",
        "outputId": "6c79e68d-da15-430b-b5d4-6a638053954e"
      },
      "source": [
        "testDF2 = pred.predictions.withColumnRenamed(\"Label\", \"label\")"
      ],
      "execution_count": 36,
      "outputs": [
        {
          "output_type": "stream",
          "name": "stderr",
          "text": [
            "/usr/local/lib/python3.7/dist-packages/pyspark/sql/context.py:127: FutureWarning: Deprecated in 3.0.0. Use SparkSession.builder.getOrCreate() instead.\n",
            "  FutureWarning\n"
          ]
        }
      ]
    },
    {
      "cell_type": "markdown",
      "metadata": {
        "id": "rzN6EuYaSoHK"
      },
      "source": [
        "## Evaluation"
      ]
    },
    {
      "cell_type": "code",
      "metadata": {
        "colab": {
          "base_uri": "https://localhost:8080/"
        },
        "id": "nRbwkBeESpVp",
        "outputId": "dce02395-b13c-434c-f0cc-2277b716db17"
      },
      "source": [
        "from pyspark.ml.evaluation import MulticlassClassificationEvaluator\n",
        "\n",
        "MultiEValuator = MulticlassClassificationEvaluator(metricName=\"accuracy\")\n",
        "print(\"Accuracy:\", MultiEValuator.evaluate(testDF2)*100)"
      ],
      "execution_count": 37,
      "outputs": [
        {
          "output_type": "stream",
          "name": "stdout",
          "text": [
            "Accuracy: 99.9936932515821\n"
          ]
        }
      ]
    },
    {
      "cell_type": "markdown",
      "metadata": {
        "id": "GO42DYXtInOF"
      },
      "source": [
        "## Confusion Matrix"
      ]
    },
    {
      "cell_type": "code",
      "metadata": {
        "id": "Ltd1UngpIfbf"
      },
      "source": [
        "y_test = testDF2.select('label').toPandas()\n",
        "y_test_pred = testDF2.select('prediction').toPandas()"
      ],
      "execution_count": 38,
      "outputs": []
    },
    {
      "cell_type": "code",
      "metadata": {
        "colab": {
          "base_uri": "https://localhost:8080/",
          "height": 351
        },
        "id": "iAl3EQUrIzDk",
        "outputId": "047deed3-77f1-4687-da23-7c19fe412bf5"
      },
      "source": [
        "from sklearn.metrics import confusion_matrix,roc_curve,auc\n",
        "# Creating the confusion matrix:\n",
        "gn_cm = confusion_matrix(y_test, y_test_pred)\n",
        "\n",
        "# Visualization:\n",
        "f, ax = plt.subplots(figsize=(5,5))\n",
        "sns.heatmap(gn_cm, annot=True, linewidth=0.7, linecolor='cyan', fmt='.0f', ax=ax, cmap='BrBG')\n",
        "plt.title('Model Classification Confusion Matrix')\n",
        "plt.xlabel('y_pred')\n",
        "plt.ylabel('y_test')\n",
        "plt.show()"
      ],
      "execution_count": 39,
      "outputs": [
        {
          "output_type": "display_data",
          "data": {
            "image/png": "[encoded data removed]",
            "text/plain": [
              "<Figure size 360x360 with 2 Axes>"
            ]
          },
          "metadata": {
            "needs_background": "light"
          }
        }
      ]
    },
    {
      "cell_type": "markdown",
      "metadata": {
        "id": "_SFzoDyNqcRq"
      },
      "source": [
        "## CLassification Report"
      ]
    },
    {
      "cell_type": "code",
      "metadata": {
        "colab": {
          "base_uri": "https://localhost:8080/"
        },
        "id": "I20bUVW1qkoy",
        "outputId": "d1242f72-0edf-483b-a559-e5568cd7da9a"
      },
      "source": [
        "print(\"True Positive Rate {}\".format(pred.weightedTruePositiveRate))\n",
        "print(\"False Positive Rate {}\".format(pred.weightedFalsePositiveRate))\n",
        "print(\"Precision {}\".format(pred.weightedPrecision))\n",
        "print(\"Recall {}\".format(pred.weightedRecall))\n",
        "print(\"F1 Score {}\".format(pred.weightedFMeasure()))"
      ],
      "execution_count": 40,
      "outputs": [
        {
          "output_type": "stream",
          "name": "stdout",
          "text": [
            "True Positive Rate 0.999936932515821\n",
            "False Positive Rate 9.13826610650802e-06\n",
            "Precision 0.9999369639283305\n",
            "Recall 0.999936932515821\n",
            "F1 Score 0.9999369392324049\n"
          ]
        }
      ]
    },
    {
      "cell_type": "markdown",
      "metadata": {
        "id": "ruA80HNEI4XA"
      },
      "source": [
        "## Multi-Classfication"
      ]
    },
    {
      "cell_type": "code",
      "metadata": {
        "colab": {
          "base_uri": "https://localhost:8080/"
        },
        "id": "w4vGootwKt1b",
        "outputId": "8778f523-f3c9-4a5a-f085-e068000cc3f0"
      },
      "source": [
        "pred_train.show(2)"
      ],
      "execution_count": 45,
      "outputs": [
        {
          "output_type": "stream",
          "name": "stdout",
          "text": [
            "+----------+-----+-------------+------+-----+-----+----------+------+------+----+----+-----+-----+-------+---------+---------+-----+-----+----+----+----------+----------+-------+-------+-----------+-----------+---------+---------+----------+----------+---------+--------+------------+------------+-------+---------------+------------+----------------+------------+----------+----------+----------+----------+-----------+----------------+----------------+--------------+----------+-----+---------+---------+---------+---------+-----------+--------------+--------------+--------------+---------------+--------------+--------------+--------------+--------------------+\n",
            "|     srcip|sport|        dstip|dsport|proto|state|       dur|sbytes|dbytes|sttl|dttl|sloss|dloss|service|    Sload|    Dload|Spkts|Dpkts|swin|dwin|     stcpb|     dtcpb|smeansz|dmeansz|trans_depth|res_bdy_len|     Sjit|     Djit|     Stime|     Ltime|  Sintpkt| Dintpkt|      tcprtt|      synack| ackdat|is_sm_ips_ports|ct_state_ttl|ct_flw_http_mthd|is_ftp_login|ct_ftp_cmd|ct_srv_src|ct_srv_dst|ct_dst_ltm|ct_src_ ltm|ct_src_dport_ltm|ct_dst_sport_ltm|ct_dst_src_ltm|attack_cat|Label|IDX_srcip|IDX_dstip|IDX_proto|IDX_state|IDX_service|IDX_attack_cat|     OHE_srcip|     OHE_dstip|      OHE_proto|     OHE_state|   OHE_service|OHE_attack_cat|            features|\n",
            "+----------+-----+-------------+------+-----+-----+----------+------+------+----+----+-----+-----+-------+---------+---------+-----+-----+----+----+----------+----------+-------+-------+-----------+-----------+---------+---------+----------+----------+---------+--------+------------+------------+-------+---------------+------------+----------------+------------+----------+----------+----------+----------+-----------+----------------+----------------+--------------+----------+-----+---------+---------+---------+---------+-----------+--------------+--------------+--------------+---------------+--------------+--------------+--------------+--------------------+\n",
            "|59.166.0.3|56716|149.171.126.8|   143|  tcp|  FIN|0.82546002|  7812| 16236|  31|  29|   30|   32|      -| 75090.25|156111.73|  122|  126| 255| 255|2751097753|2748686736|     64|    129|          0|          0|445.25928| 474.9451|1421970774|1421970775|6.8190908|6.599896|5.9700001E-4|4.6899999E-4|1.28E-4|              0|           0|               0|           0|         0|         2|         7|         1|          4|               1|               1|             1|    benign|    0|      5.0|      9.0|      0.0|      0.0|        0.0|           0.0|(43,[5],[1.0])|(47,[9],[1.0])|(134,[0],[1.0])|(16,[0],[1.0])|(13,[0],[1.0])|(14,[0],[1.0])|(307,[0,1,2,3,4,5...|\n",
            "|59.166.0.0|43467|149.171.126.6| 49729|  tcp|  FIN|  0.101815|  4238| 65628|  31|  29|    7|   30|      -|328438.84|5087030.5|   72|   74| 255| 255| 961515433|3225510659|     59|    887|          0|          0|      0.0|91.579567|1421970775|1421970775| 1.429493|1.387192|      6.8E-4|5.4600002E-4|1.34E-4|              0|           0|               0|           0|         0|         7|         4|         1|          6|               1|               1|             1|    benign|    0|      4.0|      8.0|      0.0|      0.0|        0.0|           0.0|(43,[4],[1.0])|(47,[8],[1.0])|(134,[0],[1.0])|(16,[0],[1.0])|(13,[0],[1.0])|(14,[0],[1.0])|(307,[0,1,2,3,4,5...|\n",
            "+----------+-----+-------------+------+-----+-----+----------+------+------+----+----+-----+-----+-------+---------+---------+-----+-----+----+----+----------+----------+-------+-------+-----------+-----------+---------+---------+----------+----------+---------+--------+------------+------------+-------+---------------+------------+----------------+------------+----------+----------+----------+----------+-----------+----------------+----------------+--------------+----------+-----+---------+---------+---------+---------+-----------+--------------+--------------+--------------+---------------+--------------+--------------+--------------+--------------------+\n",
            "only showing top 2 rows\n",
            "\n"
          ]
        }
      ]
    },
    {
      "cell_type": "code",
      "metadata": {
        "id": "tf5gQFifKbwP"
      },
      "source": [
        "multitrain = pred_train.select(\"features\",\"IDX_attack_cat\")"
      ],
      "execution_count": 46,
      "outputs": []
    },
    {
      "cell_type": "code",
      "metadata": {
        "id": "KSku9zlkK4Xl"
      },
      "source": [
        "multitraindf = multitrain.withColumnRenamed(\"IDX_attack_cat\", \"label\")"
      ],
      "execution_count": 47,
      "outputs": []
    },
    {
      "cell_type": "code",
      "metadata": {
        "id": "WsDUaai5K232"
      },
      "source": [
        "#Split training and testing data\n",
        "train_data,test_data = multitraindf.randomSplit([0.8,0.2])"
      ],
      "execution_count": 48,
      "outputs": []
    },
    {
      "cell_type": "markdown",
      "metadata": {
        "id": "qzWR77ILK-lb"
      },
      "source": [
        "## Train Model"
      ]
    },
    {
      "cell_type": "code",
      "source": [
        "from pyspark.ml.classification import OneVsRest"
      ],
      "metadata": {
        "id": "ib-9K5m3pKAB"
      },
      "execution_count": 64,
      "outputs": []
    },
    {
      "cell_type": "code",
      "metadata": {
        "id": "HQbtaV08K232"
      },
      "source": [
        "rf = RandomForestClassifier(featuresCol = 'features', labelCol = 'label')\n",
        "ovr = OneVsRest(classifier=rf)\n",
        "## Train Data\n",
        "rf = ovr.fit(multitraindf)"
      ],
      "execution_count": 65,
      "outputs": []
    },
    {
      "cell_type": "markdown",
      "metadata": {
        "id": "zAKOGbs1LG-M"
      },
      "source": [
        "## Prediction"
      ]
    },
    {
      "cell_type": "code",
      "metadata": {
        "id": "WE9exxG3K233"
      },
      "source": [
        "#Prediction on Test Data\n",
        "pred = rf.transform(multitraindf)\n",
        "\n",
        "#Model Prediction\n",
        "pred.show(5)"
      ],
      "execution_count": null,
      "outputs": []
    },
    {
      "cell_type": "markdown",
      "metadata": {
        "id": "mhiVO8qPLKvE"
      },
      "source": [
        "## Accuracy"
      ]
    },
    {
      "cell_type": "code",
      "metadata": {
        "colab": {
          "base_uri": "https://localhost:8080/"
        },
        "id": "_0ZP6RC3K233",
        "outputId": "827ad4be-6960-43cf-ba14-a9099c6e4064"
      },
      "source": [
        "from pyspark.ml.evaluation import MulticlassClassificationEvaluator\n",
        "\n",
        "MultiEValuator = MulticlassClassificationEvaluator(metricName=\"accuracy\")\n",
        "print(\"Accuracy:\", MultiEValuator.evaluate(pred)*100)"
      ],
      "execution_count": 71,
      "outputs": [
        {
          "output_type": "stream",
          "name": "stdout",
          "text": [
            "Accuracy: 99.627008917058\n"
          ]
        }
      ]
    },
    {
      "cell_type": "code",
      "metadata": {
        "id": "Sfz7afvGK234"
      },
      "source": [
        "y_test = pred.select('label').toPandas()\n",
        "y_test_pred = pred.select('prediction').toPandas()"
      ],
      "execution_count": 72,
      "outputs": []
    },
    {
      "cell_type": "code",
      "source": [
        "from sklearn.metrics import confusion_matrix,roc_curve,auc\n",
        "# Creating the confusion matrix:\n",
        "gn_cm = confusion_matrix(y_test, y_test_pred)\n",
        "\n",
        "# Visualization:\n",
        "f, ax = plt.subplots(figsize=(5,5))\n",
        "sns.heatmap(gn_cm, annot=True, linewidth=0.7, linecolor='cyan', fmt='.0f', ax=ax, cmap='BrBG')\n",
        "plt.title('Model Classification Confusion Matrix')\n",
        "plt.xlabel('y_pred')\n",
        "plt.ylabel('y_test')\n",
        "plt.show()"
      ],
      "metadata": {
        "colab": {
          "base_uri": "https://localhost:8080/",
          "height": 351
        },
        "id": "HJVXCjAs_uUd",
        "outputId": "5ecfaa86-36ae-44bc-bffe-35d5c65b427a"
      },
      "execution_count": 73,
      "outputs": [
        {
          "output_type": "display_data",
          "data": {
            "image/png": "[encoded data removed]",
            "text/plain": [
              "<Figure size 360x360 with 2 Axes>"
            ]
          },
          "metadata": {
            "needs_background": "light"
          }
        }
      ]
    },
    {
      "cell_type": "markdown",
      "metadata": {
        "id": "NvNI2btbLSiq"
      },
      "source": [
        "## Classification Report"
      ]
    },
    {
      "cell_type": "markdown",
      "source": [
        " * Precision\n",
        " * Recall\n",
        " * F1-Score\n",
        " * True Positve Rate\n",
        " * False Positive Rate"
      ],
      "metadata": {
        "id": "8N23mr3GIDtQ"
      }
    },
    {
      "cell_type": "code",
      "source": [
        "from sklearn.metrics import precision_recall_fscore_support\n",
        "precision_recall_fscore_support(y_test, y_test_pred, average='weighted')"
      ],
      "metadata": {
        "colab": {
          "base_uri": "https://localhost:8080/"
        },
        "id": "PAqa52mAHYc2",
        "outputId": "7a95997d-555d-4873-8639-707e6c4cb396"
      },
      "execution_count": 79,
      "outputs": [
        {
          "output_type": "execute_result",
          "data": {
            "text/plain": [
              "(0.9965986374172491, 0.9962700891705801, 0.9960808899610042, None)"
            ]
          },
          "metadata": {},
          "execution_count": 79
        }
      ]
    },
    {
      "cell_type": "code",
      "metadata": {
        "colab": {
          "base_uri": "https://localhost:8080/"
        },
        "id": "TJnUt4T1K234",
        "outputId": "a9861409-adf9-4f93-b5a7-d75aee0ad958"
      },
      "source": [
        "TP = gn_cm[0][0]\n",
        "FP = gn_cm[1][0]\n",
        "TPR = TP/(TP+FN)\n",
        "FPR = FP/(FP+TN)\n",
        "print(\"True Positive rate is:\", TPR)\n",
        "print(\"True Positive rate is:\", FPR)"
      ],
      "execution_count": 87,
      "outputs": [
        {
          "output_type": "stream",
          "name": "stdout",
          "text": [
            "True Positive rate is: 1.0\n",
            "True Positive rate is: 0.0015145476285372658\n"
          ]
        }
      ]
    },
    {
      "cell_type": "code",
      "source": [
        "print(classification_report(y_test, y_test_pred))"
      ],
      "metadata": {
        "colab": {
          "base_uri": "https://localhost:8080/"
        },
        "id": "-5tJC5vsHHkR",
        "outputId": "650da6d0-a6c9-4c2f-db95-4cb3090649f6"
      },
      "execution_count": 77,
      "outputs": [
        {
          "output_type": "stream",
          "name": "stdout",
          "text": [
            "              precision    recall  f1-score   support\n",
            "\n",
            "         0.0       1.00      1.00      1.00   2218456\n",
            "         1.0       1.00      0.99      0.99    215481\n",
            "         2.0       0.87      0.99      0.92     44525\n",
            "         3.0       1.00      1.00      1.00     19195\n",
            "         4.0       1.00      0.87      0.93     16353\n",
            "         5.0       0.97      0.87      0.92     12228\n",
            "         6.0       1.00      0.99      1.00      5051\n",
            "         7.0       1.00      0.88      0.94      2677\n",
            "         8.0       1.00      0.60      0.75      1795\n",
            "         9.0       1.00      0.43      0.60      1759\n",
            "        10.0       1.00      0.90      0.95      1288\n",
            "        11.0       1.00      0.02      0.04       534\n",
            "        12.0       1.00      0.80      0.89       223\n",
            "        13.0       1.00      0.21      0.34       174\n",
            "\n",
            "    accuracy                           1.00   2539739\n",
            "   macro avg       0.99      0.75      0.81   2539739\n",
            "weighted avg       1.00      1.00      1.00   2539739\n",
            "\n"
          ]
        }
      ]
    }
  ]
}